{
 "cells": [
  {
   "cell_type": "code",
   "execution_count": null,
   "metadata": {},
   "outputs": [],
   "source": [
    "from support import CachedStanModel, load_rates, load_stan_data, get_metric, forest_plot\n",
    "import pandas as pd\n",
    "import numpy as np\n",
    "import pylab as pl\n",
    "import arviz as az"
   ]
  },
  {
   "cell_type": "code",
   "execution_count": null,
   "metadata": {},
   "outputs": [],
   "source": [
    "import impotlib"
   ]
  },
  {
   "cell_type": "code",
   "execution_count": null,
   "metadata": {},
   "outputs": [],
   "source": [
    "rates = load_rates()\n",
    "cells, data = load_stan_data('ftc', significant_only=True, exclude_silent=True)"
   ]
  },
  {
   "cell_type": "code",
   "execution_count": null,
   "metadata": {},
   "outputs": [],
   "source": [
    "import pickle\n",
    "with open('fits/marmot-ftc_sr_multiplicative_exclude_silent_significant_only.pkl', 'rb') as fh:\n",
    "    cells = pickle.load(fh)\n",
    "    model = pickle.load(fh)\n",
    "    fit = pickle.load(fh)"
   ]
  },
  {
   "cell_type": "code",
   "execution_count": null,
   "metadata": {},
   "outputs": [],
   "source": [
    "az.plot_trace(fit, ['bw_mean', 'bw_sd'])"
   ]
  },
  {
   "cell_type": "code",
   "execution_count": null,
   "metadata": {},
   "outputs": [],
   "source": [
    "az.plot_trace(fit, ['bf_mean', 'bw_mean', 'gain_mean', 'sr_mean'])"
   ]
  },
  {
   "cell_type": "code",
   "execution_count": null,
   "metadata": {},
   "outputs": [],
   "source": [
    "az.plot_trace(fit, ['bf_delta_mean', 'bw_ratio_mean', 'gain_ratio_mean', 'sr_delta_mean'])"
   ]
  },
  {
   "cell_type": "code",
   "execution_count": null,
   "metadata": {},
   "outputs": [],
   "source": [
    "def plot_fit(ax, c, i, cells, ftc):\n",
    "    cell = cells[i]\n",
    "    frequency = np.linspace(2.5, 17.5, 100)\n",
    "\n",
    "    sr = c[f'sr_cell[{i+1}]']\n",
    "    bf = c[f'bf_cell[{i+1}]']\n",
    "    bw = c[f'bw_cell[{i+1}]']\n",
    "    gain = c[f'gain_cell[{i+1}]']\n",
    "    \n",
    "    gauss = sr * gain * np.exp(-0.5 * np.square((frequency-bf)/bw))\n",
    "    ax.plot(frequency, gauss, 'r-')\n",
    "    \n",
    "    sr = c[f'sr_cell_pupil[{i+1}]']\n",
    "    bf = c[f'bf_cell_pupil[{i+1}]']\n",
    "    bw = c[f'bw_cell_pupil[{i+1}]']\n",
    "    gain = c[f'gain_cell_pupil[{i+1}]']\n",
    "    \n",
    "    gauss = sr * gain * np.exp(-0.5 * np.square((frequency-bf)/bw))\n",
    "    ax.plot(frequency, gauss, 'g-')\n",
    "\n",
    "    x = ftc.loc[cell, 0]\n",
    "    x = x.eval('count/time').rename('rate').reset_index()\n",
    "    ax.plot(x['frequency'], x['rate'], 'ro')\n",
    "    \n",
    "    x = ftc.loc[cell, 1]\n",
    "    x = x.eval('count/time').rename('rate').reset_index()\n",
    "    ax.plot(x['frequency'], x['rate'], 'go')\n",
    "    ax.set_title(f'{bw:0.2f}')\n",
    "    \n",
    "c = fit.to_dataframe(diagnostics=False).mean()\n",
    "\n",
    "f, axes = pl.subplots(5, 5, figsize=(10, 10))\n",
    "for i, ax in enumerate(axes.ravel()):\n",
    "    plot_fit(ax, c, i, cells, rates['ftc'])\n",
    "\n",
    "    \n",
    "f.tight_layout()\n",
    "\n",
    "#for i, ax in zip(range(15), axes.ravel()):\n",
    "    #plot_fit(ax, c, i, cells, ftc, sr_cell, sr_cell_pupil)"
   ]
  },
  {
   "cell_type": "code",
   "execution_count": null,
   "metadata": {},
   "outputs": [],
   "source": [
    "inference = az.from_pystan(fit=fit)\n",
    "print('Max treedepth', inference.sample_stats['treedepth'].max())\n",
    "print('Diverging', inference.sample_stats['diverging'].any())"
   ]
  },
  {
   "cell_type": "code",
   "execution_count": null,
   "metadata": {},
   "outputs": [],
   "source": [
    "import support\n",
    "import importlib\n",
    "importlib.reload(support)\n",
    "\n",
    "ci = 90\n",
    "summary = az.summary(fit, credible_interval=ci/100)\n",
    "\n",
    "f, axes = pl.subplots(2, 2, figsize=(8, 8))\n",
    "\n",
    "cell_metric = support.get_metric(summary, 'sr_delta_cell')\n",
    "pop_metric = support.get_metric(summary, 'sr_delta_mean')\n",
    "support.forest_plot(axes[0, 0], cell_metric, pop_metric, 'sr', ci)\n",
    "\n",
    "cell_metric = support.get_metric(summary, 'bf_delta_cell')\n",
    "pop_metric = support.get_metric(summary, 'bf_delta_mean')\n",
    "support.forest_plot(axes[0, 1], cell_metric, pop_metric, 'bf', ci)\n",
    "\n",
    "cell_metric = support.get_metric(summary, 'gain_ratio_cell')\n",
    "pop_metric = support.get_metric(summary, 'gain_ratio_mean')\n",
    "support.forest_plot(axes[1, 0], cell_metric, pop_metric, 'gain', ci, 1)\n",
    "\n",
    "cell_metric = support.get_metric(summary, 'bw_ratio_cell')\n",
    "pop_metric = support.get_metric(summary, 'bw_ratio_mean')\n",
    "support.forest_plot(axes[1, 1], cell_metric, pop_metric, 'bw', ci, 1)\n",
    "\n",
    "f.tight_layout()\n",
    "f.savefig('reports/tuning/summary.eps')\n",
    "f.savefig('reports/tuning/summary.pdf')\n",
    "f.savefig('reports/tuning/summary.png')"
   ]
  },
  {
   "cell_type": "code",
   "execution_count": null,
   "metadata": {},
   "outputs": [],
   "source": []
  }
 ],
 "metadata": {
  "kernelspec": {
   "display_name": "Python 3",
   "language": "python",
   "name": "python3"
  },
  "language_info": {
   "codemirror_mode": {
    "name": "ipython",
    "version": 3
   },
   "file_extension": ".py",
   "mimetype": "text/x-python",
   "name": "python",
   "nbconvert_exporter": "python",
   "pygments_lexer": "ipython3",
   "version": "3.6.5"
  }
 },
 "nbformat": 4,
 "nbformat_minor": 2
}
