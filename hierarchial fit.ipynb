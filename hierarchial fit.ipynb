{
 "cells": [
  {
   "cell_type": "code",
   "execution_count": null,
   "metadata": {},
   "outputs": [],
   "source": [
    "import pandas as pd\n",
    "import seaborn as sns\n",
    "from scipy import stats\n",
    "import pylab as pl\n",
    "import numpy as np\n",
    "from lbhb.psychometric import CachedStanModel\n",
    "import arviz as az\n",
    "%matplotlib inline\n",
    "\n",
    "df = pd.read_csv('rate_level_functions_for_bburan.csv')\n",
    "sig_cells = pd.read_csv('psth_sig_cellids.csv')['cellid'].tolist()\n",
    "mask = df['cellid'].apply(lambda x: x in sig_cells)\n",
    "df = df.loc[mask]\n",
    "df.rename(columns=lambda x: x.replace(' ', ''), inplace=True)\n",
    "df = pd.wide_to_long(df, ['pupil', 'level', 'spikes', 'spont'], 'cellid', 'idx', sep='_')\n",
    "df.dropna(inplace=True)\n",
    "spont = df.groupby(['cellid', 'pupil'])['spont'].first()\n",
    "spont.sort_index(inplace=True)\n",
    "df = df.reset_index().set_index(['cellid', 'pupil', 'level'], verify_integrity=True)['spikes']\n",
    "df.sort_index(inplace=True)\n",
    "\n",
    "# Code to assign spont as -20\n",
    "s = spont.reset_index()\n",
    "s['level'] = -10\n",
    "s = s.set_index(['cellid', 'pupil', 'level'])['spont']\n",
    "df = pd.concat((df, s))\n",
    "df = df.sort_index()\n",
    "df.name = 'spikes'"
   ]
  },
  {
   "cell_type": "code",
   "execution_count": null,
   "metadata": {},
   "outputs": [],
   "source": [
    "def sr_dist(sr):\n",
    "    pl.hist(sr, density=True, bins=100);\n",
    "    x = np.arange(0, 50, 0.1)\n",
    "    a, loc, scale = stats.gamma.fit(sr, floc=0)\n",
    "    y = stats.gamma.pdf(x, a, loc, scale)\n",
    "    pl.plot(x, y, 'k-')\n",
    "    y = stats.gamma.pdf(x, 0.5, 0, 1/0.1)\n",
    "    pl.plot(x, y, 'r-')\n",
    "    print(f'alpha = {a:.2f}, beta = {1/scale:.2f}')\n",
    "    \n",
    "sr_dist(spont)"
   ]
  },
  {
   "cell_type": "code",
   "execution_count": null,
   "metadata": {},
   "outputs": [],
   "source": [
    "df.groupby('level').mean().plot()"
   ]
  },
  {
   "cell_type": "code",
   "execution_count": null,
   "metadata": {},
   "outputs": [],
   "source": [
    "model = CachedStanModel('hierarchial_hockey_stick_V3f.stan')\n",
    "\n",
    "#c = 'BOL006b-21-1'\n",
    "#c = 'TAR010c-24-2'\n",
    "#c = 'gus021d-b1'\n",
    "#d = df_sig.loc[c].reset_index()\n",
    "#d['cellid'] = c\n",
    "\n",
    "#d = df.loc['BOL006b-00-1':'BOL006b-21-1'].reset_index()\n",
    "d = df.reset_index()\n",
    "    \n",
    "cellid = pd.Categorical(d['cellid'])\n",
    "cell = cellid.codes + 1\n",
    "n_cells = cell.max()\n",
    "d['cell_code'] = cellid.codes\n",
    "\n",
    "data = {\n",
    "    'n': len(d),\n",
    "    'n_cells': n_cells,\n",
    "    'x': d['level'].values,\n",
    "    'y': d['spikes'].values,\n",
    "    # Pupil should be 0 for small, 1 for large\n",
    "    'pupil': d['pupil'].values.astype('i') - 1,\n",
    "    'cell': cell,\n",
    "}\n",
    "fit = model.sampling(data, iter=50000)\n",
    "fit"
   ]
  },
  {
   "cell_type": "code",
   "execution_count": null,
   "metadata": {},
   "outputs": [],
   "source": [
    "def get_trace(fit, variable):\n",
    "    x = fit.extract(variable, permuted=True)[variable]\n",
    "    if x.ndim == 1:\n",
    "        x = x[..., np.newaxis]\n",
    "    return x\n",
    "\n",
    "sr_mean = get_trace(fit, 'sr_mean')\n",
    "sr_pupil = get_trace(fit, 'sr_pupil')\n",
    "sr_cell = get_trace(fit, 'sr_cell')\n",
    "sr_cell_pupil = get_trace(fit, 'sr_cell_pupil')\n",
    "sr_cell_sd = get_trace(fit, 'sr_cell_sd')\n",
    "sr_cell_pupil_sd = get_trace(fit, 'sr_cell_pupil_sd')\n",
    "\n",
    "slope_mean = get_trace(fit, 'slope_mean')\n",
    "slope_pupil = get_trace(fit, 'slope_pupil')\n",
    "slope_cell = get_trace(fit, 'slope_cell')\n",
    "slope_cell_pupil = get_trace(fit, 'slope_cell_pupil')\n",
    "slope_cell_sd = get_trace(fit, 'slope_cell_sd')\n",
    "slope_cell_pupil_sd = get_trace(fit, 'slope_cell_pupil_sd')\n",
    "\n",
    "threshold_mean = get_trace(fit, 'threshold_mean')\n",
    "threshold_pupil = get_trace(fit, 'threshold_pupil')\n",
    "threshold_cell = get_trace(fit, 'threshold_cell')\n",
    "threshold_cell_pupil = get_trace(fit, 'threshold_cell_pupil')\n",
    "threshold_cell_sd = get_trace(fit, 'threshold_cell_sd')\n",
    "threshold_cell_pupil_sd = get_trace(fit, 'threshold_cell_pupil_sd')\n",
    "\n",
    "sr = sr_mean + (sr_cell * sr_cell_sd) \n",
    "sr_pupil = sr + (sr_pupil + sr_cell_pupil * sr_cell_pupil_sd)\n",
    "\n",
    "slope = slope_mean + (slope_cell * slope_cell_sd) \n",
    "slope_pupil = slope + (slope_pupil + slope_cell_pupil * slope_cell_pupil_sd)\n",
    "\n",
    "threshold = threshold_mean + (threshold_cell * threshold_cell_sd) \n",
    "threshold_pupil = threshold + (threshold_pupil + threshold_cell_pupil * threshold_cell_pupil_sd)\n",
    "\n",
    "level_start, level_stop = -20, 80\n",
    "spike_start, spike_stop = 0, 110\n",
    "\n",
    "x = np.arange(level_start, level_stop)[:, np.newaxis, np.newaxis]\n",
    "\n",
    "y = (x - threshold) * slope\n",
    "y = np.clip(y, sr, np.inf)\n",
    "\n",
    "y_pupil = (x - threshold_pupil) * slope_pupil\n",
    "y_pupil = np.clip(y_pupil, sr_pupil, np.inf)"
   ]
  },
  {
   "cell_type": "code",
   "execution_count": null,
   "metadata": {},
   "outputs": [],
   "source": [
    "def get_density(y, bins):\n",
    "    fn = lambda x: np.histogram(x, bins, density=True)[0]\n",
    "    return np.apply_along_axis(fn, 1, y)"
   ]
  },
  {
   "cell_type": "code",
   "execution_count": null,
   "metadata": {},
   "outputs": [],
   "source": []
  },
  {
   "cell_type": "code",
   "execution_count": null,
   "metadata": {},
   "outputs": [],
   "source": [
    "import itertools\n",
    "\n",
    "cell_indices = [0, 1, 2, 3, 4]\n",
    "f, ax = pl.subplots(3, 3, figsize=(10, 10))\n",
    "ax_iter = itertools.chain(*ax)\n",
    "bins = np.arange(spike_start, spike_stop, 0.1)\n",
    "pupil = 'large'\n",
    "\n",
    "for ax, cell_index in zip(ax_iter, cell_indices):\n",
    "    cell_name = cellid.categories[cell_index]\n",
    "    if pupil == 'small':\n",
    "        density = get_density(y[..., cell_index], bins)\n",
    "        raw = df.loc[cell_name].loc[1]\n",
    "    else:\n",
    "        density = get_density(y_pupil[..., cell_index], bins)\n",
    "        raw = df.loc[cell_name].loc[2]\n",
    "        \n",
    "    ax.plot(raw, 'o', color='white')\n",
    "    ax.set_title(cell_name)\n",
    "    ax.imshow(density.T, origin='lower', aspect='auto', \n",
    "              extent=(level_start, level_stop, spike_start, spike_stop))\n",
    "    ax.axvline(threshold[:, cell_index].mean(), color='white')\n",
    "    #ax.axhline(spont.loc[cell_name], color='white')\n"
   ]
  },
  {
   "cell_type": "code",
   "execution_count": null,
   "metadata": {},
   "outputs": [],
   "source": [
    "c = 'BOL006b-21-1'\n",
    "#c = 'TAR010c-24-2'\n",
    "#c = 'gus021d-b1'\n",
    "#i = cellid.categories.tolist().index(c)\n",
    "i = 56\n",
    "\n",
    "for i_cell in range(i, i+1):\n",
    "    pl.figure()\n",
    "\n",
    "    for i_pupil in (0, 1):\n",
    "        sr_i = sr[:, i_cell] + sr_pupil[:, i_cell] * i_pupil\n",
    "        threshold_i = threshold[:, i_cell] + threshold_pupil[:, i_cell] * i_pupil\n",
    "        slope_i = slope[:, i_cell] + slope_pupil[:, i_cell] * i_pupil\n",
    "        intercept_i = sr_i - threshold_i * slope_i\n",
    "        \n",
    "        print(f'{sr_i.mean():.2f} {intercept_i.mean():.2f} {slope_i.mean():.2f}')\n",
    "        print(f'{sr_i.min():.2f} {intercept_i.min():.2f} {slope_i.min():.2f}')\n",
    "\n",
    "        x = np.arange(-20, 100)[..., np.newaxis]\n",
    "        y = np.clip(slope_i * x + intercept_i, sr_i, np.inf)\n",
    "\n",
    "        m = (d['cell_code'] == i_cell) & (d['pupil'] == (i_pupil + 1))\n",
    "        subset = d.loc[m]\n",
    "        p, = pl.plot(subset['level'], subset['spikes'], 'o')\n",
    "\n",
    "        pl.plot(x, y[:, ::100], '-', alpha=0.005, color=p.get_color());"
   ]
  },
  {
   "cell_type": "code",
   "execution_count": null,
   "metadata": {},
   "outputs": [],
   "source": [
    "#az.plot_forest(fit, kind='ridgeplot', var_names=['sp_mean'], combined=True, figsize=(4, 4))\n",
    "az.plot_trace(fit, var_names=('sr_mean', 'sr_pupil', 'threshold_mean', 'threshold_pupil', 'slope_mean', 'slope_pupil'))"
   ]
  },
  {
   "cell_type": "code",
   "execution_count": null,
   "metadata": {},
   "outputs": [],
   "source": [
    "x = fit.summary(['tp_mean', 'tp_sd', 'srp_mean', 'srp_sd', 'sp_mean', 'sp_sd'])\n",
    "pd.DataFrame(x['summary'], index=x['summary_rownames'], columns=x['summary_colnames'])"
   ]
  },
  {
   "cell_type": "code",
   "execution_count": null,
   "metadata": {},
   "outputs": [],
   "source": [
    "threshold_pupil = get_trace(fit, 'threshold_pupil')\n",
    "lb, median, ub = np.percentile(threshold_pupil, [2.5, 50.0, 97.5], 0)\n",
    "i = np.arange(len(median))\n",
    "ax = pl.gca()\n",
    "ax.errorbar(i, median, yerr=np.vstack((abs(lb-median), ub-median)))\n",
    "ax.axhline(0, color='k')\n",
    "ax.set_ylabel('Threshold (dB SPL)')\n",
    "ax.xaxis.set_ticks([])\n",
    "ax.grid()\n",
    "\n",
    "i, j = median.argmin(), median.argmax()\n",
    "print(i, j)\n",
    "lb[i], ub[i]"
   ]
  },
  {
   "cell_type": "code",
   "execution_count": null,
   "metadata": {},
   "outputs": [],
   "source": [
    "sr_pupil = get_trace(fit, 'sr_pupil')\n",
    "lb, median, ub = np.percentile(sr_pupil, [2.5, 50.0, 97.5], 0)\n",
    "i = np.arange(len(median))\n",
    "ax = pl.gca()\n",
    "ax.errorbar(i, median, yerr=np.vstack((abs(lb-median), ub-median)))\n",
    "ax.axhline(0, color='k')\n",
    "ax.set_ylabel('SR (sp/sec)')\n",
    "ax.xaxis.set_ticks([])\n",
    "ax.grid()"
   ]
  },
  {
   "cell_type": "code",
   "execution_count": null,
   "metadata": {},
   "outputs": [],
   "source": [
    "slope_pupil = get_trace(fit, 'slope_pupil')\n",
    "lb, median, ub = np.percentile(slope_pupil, [2.5, 50.0, 97.5], 0)\n",
    "i = np.arange(len(median))\n",
    "ax = pl.gca()\n",
    "ax.errorbar(i, median, yerr=np.vstack((abs(lb-median), ub-median)))\n",
    "ax.axhline(0, color='k')\n",
    "ax.set_ylabel('Slope')\n",
    "ax.xaxis.set_ticks([])\n",
    "ax.grid()"
   ]
  },
  {
   "cell_type": "code",
   "execution_count": null,
   "metadata": {},
   "outputs": [],
   "source": [
    "sr_pupil = get_trace(fit, 'sr_pupil')\n",
    "lb, median, ub = np.percentile(sr_pupil, [2.5, 50.0, 97.5], 0)\n",
    "i = np.arange(len(median))\n",
    "ax = pl.gca()\n",
    "ax.errorbar(i, median, yerr=np.vstack((abs(lb-median), ub-median)))\n",
    "ax.axhline(0, color='k')\n",
    "ax.set_ylabel('SR (sp/sec)')\n",
    "ax.xaxis.set_ticks([])\n",
    "ax.grid()"
   ]
  },
  {
   "cell_type": "code",
   "execution_count": null,
   "metadata": {},
   "outputs": [],
   "source": [
    "fit"
   ]
  },
  {
   "cell_type": "code",
   "execution_count": null,
   "metadata": {},
   "outputs": [],
   "source": []
  }
 ],
 "metadata": {
  "kernelspec": {
   "display_name": "Python 3",
   "language": "python",
   "name": "python3"
  },
  "language_info": {
   "codemirror_mode": {
    "name": "ipython",
    "version": 3
   },
   "file_extension": ".py",
   "mimetype": "text/x-python",
   "name": "python",
   "nbconvert_exporter": "python",
   "pygments_lexer": "ipython3",
   "version": "3.6.5"
  }
 },
 "nbformat": 4,
 "nbformat_minor": 2
}
