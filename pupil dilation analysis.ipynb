{
 "cells": [
  {
   "cell_type": "code",
   "execution_count": null,
   "metadata": {},
   "outputs": [],
   "source": [
    "import pandas as pd\n",
    "import seaborn as sns\n",
    "from scipy import stats\n",
    "import pylab as pl\n",
    "import numpy as np\n",
    "from lbhb.psychometric import CachedStanModel\n",
    "import arviz as az\n",
    "import pickle\n",
    "%matplotlib inline\n",
    "\n",
    "refit = False"
   ]
  },
  {
   "cell_type": "code",
   "execution_count": null,
   "metadata": {},
   "outputs": [],
   "source": [
    "rlf = pd.read_csv('rate_level_functions_for_bburan.csv')\n",
    "rlf.columns = [s.replace(' ', '') for s in rlf.columns]\n",
    "cols = ['pupil', 'level', 'rlf_count', 'rlf_time', 'spont_count', 'spont_time']\n",
    "rlf = pd.wide_to_long(rlf, cols, 'cellid', 'idx', sep='_').dropna()\n",
    "rlf['pupil'] -= 1\n",
    "\n",
    "# evoked rate\n",
    "er = rlf.reset_index().set_index(['cellid', 'pupil', 'level'], verify_integrity=True)[['rlf_count', 'rlf_time']]\n",
    "# spont rate\n",
    "sr = rlf.groupby(['cellid', 'pupil'])[['spont_count', 'spont_time']].first()\n",
    "\n",
    "pl.figure()\n",
    "sr.eval('spont_count/spont_time').groupby('pupil').hist()\n",
    "pl.figure()\n",
    "er.eval('rlf_count/rlf_time').groupby('level').mean().plot()\n",
    "\n",
    "er.sort_index(inplace=True)\n",
    "sr.sort_index(inplace=True)\n",
    "\n",
    "cells = er.index.get_level_values('cellid').unique()\n",
    "cell_map = {c: i+1 for i, c in enumerate(cells)}"
   ]
  },
  {
   "cell_type": "code",
   "execution_count": null,
   "metadata": {},
   "outputs": [],
   "source": [
    "sr_model = CachedStanModel('sr_fit.stan')\n",
    "sr_unstacked =sr.unstack('pupil')\n",
    "data = {\n",
    "    'n_cells': len(sr_unstacked),\n",
    "    'spike_count': sr_unstacked['spont_count'][0].astype('i').values,\n",
    "    #'spike_count_lg': sr_unstacked['spont_count'][1].astype('i'),\n",
    "    'sample_time': sr_unstacked['spont_time'][0].values,\n",
    "    #'sample_time_lg': sr_unstacked['spont_time'][1],\n",
    "}\n",
    "print(data)\n",
    "#sr_fit = sr_model.sampling(data)"
   ]
  },
  {
   "cell_type": "code",
   "execution_count": null,
   "metadata": {},
   "outputs": [],
   "source": [
    "sr_model.sampling(data)"
   ]
  },
  {
   "cell_type": "code",
   "execution_count": null,
   "metadata": {},
   "outputs": [],
   "source": [
    "def plot_raw_data(e, s, ax):\n",
    "    x = [0, 0] + e['level'].tolist()\n",
    "    y = s.eval('spont_count/spont_time').tolist() + e.eval('rlf_count/rlf_time').tolist()\n",
    "    size = np.array(s['spont_time'].tolist() + e['rlf_time'].tolist())\n",
    "    color = s['pupil'].tolist() + e['pupil'].tolist()\n",
    "    colors = {0: 'seagreen', 1: 'orchid'}\n",
    "    color = [colors[e] for e in color]\n",
    "    size = 100 * size/size.mean()\n",
    "    ax.scatter(x, y, size, color, alpha=0.5)"
   ]
  },
  {
   "cell_type": "code",
   "execution_count": null,
   "metadata": {},
   "outputs": [],
   "source": [
    "model = CachedStanModel('hockey_stick.stan')"
   ]
  },
  {
   "cell_type": "code",
   "execution_count": null,
   "metadata": {},
   "outputs": [],
   "source": [
    "if refit:\n",
    "    e = er.reset_index()\n",
    "    s = sr.reset_index()\n",
    "    cell_index = e['cellid'].apply(cell_map.get).values\n",
    "\n",
    "    s['cell_index'] = s['cellid'].map(cell_map.get)\n",
    "    s = s.set_index(['pupil', 'cell_index'])[['spont_count', 'spont_time']] \\\n",
    "        .sort_index().reset_index()\n",
    "\n",
    "    data = {\n",
    "        'n': len(e),\n",
    "        'n_cells': len(cells),\n",
    "        'cell_index': cell_index.astype('i'),\n",
    "        'evoked_level': e['level'].values,\n",
    "        'pupil': e['pupil'].values.astype('i'),\n",
    "        'evoked_time': e['rlf_time'].values,\n",
    "        'evoked_count': e['rlf_count'].values.astype('i'),\n",
    "        'sr_count': s['spont_count'].values.astype('i'),\n",
    "        'sr_time': s['spont_time'].values,\n",
    "    }\n",
    "\n",
    "    fit = model.sampling(data, iter=10000)\n",
    "\n",
    "    with open('fit.pkl', 'wb') as f:\n",
    "        pickle.dump(model, f)\n",
    "        pickle.dump(fit, f)\n",
    "        \n",
    "else:\n",
    "    with open('fit.pkl', 'rb') as fh:\n",
    "        model = pickle.load(fh)\n",
    "        fit = pickle.load(fh)"
   ]
  },
  {
   "cell_type": "code",
   "execution_count": null,
   "metadata": {},
   "outputs": [],
   "source": [
    "def plot_fit(er, sr, fit, cell_map, cell, ax):\n",
    "    c = fit.to_dataframe(diagnostics=False).mean()\n",
    "    level = np.arange(-10, 80)\n",
    "    i = cell_map[cell]\n",
    "\n",
    "    e = er.loc[cell].reset_index()\n",
    "    s = sr.loc[cell].reset_index()\n",
    "    plot_raw_data(e, s, ax)\n",
    "\n",
    "    sr_regular = c[f'sr[{i}]']\n",
    "    sr_pupil = c[f'sr_pupil[{i}]']\n",
    "    slope = c[f'slope[{i}]']\n",
    "    threshold = c[f'threshold[{i}]']\n",
    "    slope_pupil_delta = c[f'slope_pupil_delta[{i}]']\n",
    "    threshold_pupil_delta = c[f'threshold_pupil_delta[{i}]']\n",
    "\n",
    "    pred = slope * (level - threshold) + sr_regular\n",
    "    pred[level <= threshold] = sr_regular\n",
    "    pred = np.clip(pred, 0, np.inf)\n",
    "    ax.plot(level, pred, color='seagreen')\n",
    "\n",
    "    slope_pupil = slope + slope_pupil_delta\n",
    "    threshold_pupil = threshold + threshold_pupil_delta\n",
    "\n",
    "    pred = slope_pupil * (level - threshold_pupil) + sr_pupil\n",
    "    pred[level <= threshold_pupil] = sr_pupil\n",
    "    pred = np.clip(pred, 0, np.inf)\n",
    "    ax.plot(level, pred, color='orchid')\n",
    "    \n",
    "    \n",
    "f, axes = pl.subplots(5, 5, figsize=(10, 10))\n",
    "for cell, ax in zip(cells[mask], axes.ravel()):\n",
    "    plot_fit(er, sr, fit, cell_map, cell, ax)\n",
    "    i = cell_map[cell] - 1\n",
    "    lb, m, ub = np.percentile(fit['threshold_pupil_delta'][:, i], [2.5, 50.0, 97.5])\n",
    "    \n",
    "    ax.set_title(f'{cell}\\n({lb:.0f} | {m:.0f} | {ub:.0f})')\n",
    "    \n",
    "f.tight_layout()"
   ]
  },
  {
   "cell_type": "code",
   "execution_count": null,
   "metadata": {},
   "outputs": [],
   "source": [
    "sr_mean = fit['sr_alpha']/fit['sr_beta']\n",
    "sr_pupil_mean = fit['sr_pupil_alpha']/fit['sr_pupil_beta']\n",
    "\n",
    "print(fit['sr_alpha'].mean(axis=0))\n",
    "print(fit['sr_pupil_alpha'].mean(axis=0))\n",
    "print(fit['sr_beta'].mean(axis=0))\n",
    "print(fit['sr_pupil_beta'].mean(axis=0))\n",
    "\n",
    "print('SR', np.percentile(sr_mean, [2.5, 50.0, 97.5], axis=0))\n",
    "print('SR pupil', np.percentile(sr_pupil_mean, [2.5, 50.0, 97.5], axis=0))"
   ]
  },
  {
   "cell_type": "code",
   "execution_count": null,
   "metadata": {},
   "outputs": [],
   "source": [
    "fit['threshold_pupil_delta']"
   ]
  },
  {
   "cell_type": "code",
   "execution_count": null,
   "metadata": {},
   "outputs": [],
   "source": [
    "import matplotlib as mp\n",
    "from scipy import stats\n",
    "\n",
    "def plot(ax, lb, m, ub, measure, ensemble_lb, ensemble_m, ensemble_ub):\n",
    "    stat = stats.wilcoxon(m)\n",
    "    mask = (ub < 0) | (lb > 0)\n",
    "    i = np.argsort(m)\n",
    "    lb = lb[i]\n",
    "    m = m[i]\n",
    "    ub = ub[i]\n",
    "\n",
    "    #ax.axvline(0)\n",
    "    t = ax.get_xaxis_transform()\n",
    "    fc = 'lightgreen' if (ensemble_lb > 0) or (ensemble_ub < 0) else 'gray'\n",
    "    c = 'seagreen' if (ensemble_lb > 0) or (ensemble_ub < 0) else 'k'\n",
    "    ax.axvline(ensemble_m, color=c)\n",
    "    r = mp.patches.Rectangle((ensemble_lb, 0), ensemble_ub-ensemble_lb, 1,\n",
    "                             transform=t, ec='none', fc=fc)\n",
    "    ax.add_patch(r)\n",
    "    n_sig =0 \n",
    "    for i, (a, d, b) in enumerate(zip(lb, m, ub)):\n",
    "        c = 'g' if (b < 0) or (a > 0) else 'k'\n",
    "        n_sig += 1 if (b < 0) or (a > 0) else 0\n",
    "        ax.plot([a, b], [i, i], '-', color=c, lw=0.5)\n",
    "        ax.plot([d], [i], 'o', color=c)\n",
    "        \n",
    "    ax.set_xlabel(f'Change in {measure} (lg. re sm. pupil)\\n{n_sig} sig. out of {len(lb)}\\nMedian change {ensemble_m:.2f}\\nWilcoxon p={stat.pvalue:0.4f}')\n",
    "    sns.despine(ax=ax, top=True, left=True, right=True, bottom=False)\n",
    "    ax.yaxis.set_ticks_position('none')\n",
    "    ax.yaxis.set_ticks([])\n",
    "    ax.grid()\n",
    "    return ax\n",
    "\n",
    "f, axes = pl.subplots(1, 3, figsize=(15, 5))\n",
    "\n",
    "thresholds = pd.Series(fit['threshold'].mean(axis=0), index=cell_map.keys())\n",
    "mask = (thresholds < -20) | (thresholds > 65)\n",
    "mask = ~mask\n",
    "# hack\n",
    "mask[:] = True\n",
    "\n",
    "pct = [5, 50, 95]\n",
    "x = fit['slope_pupil_delta'][:, mask]\n",
    "e = fit['slope_pupil_delta_mean']\n",
    "lb, m, ub = np.percentile(x, pct, axis=0)\n",
    "elb, em, eub = np.percentile(e, pct, axis=0)\n",
    "plot(axes[0], lb, m, ub, 'slope', elb, em, eub)\n",
    "\n",
    "x = fit['threshold_pupil_delta'][:, mask]\n",
    "e = fit['threshold_pupil_delta_mean']\n",
    "lb, m, ub = np.percentile(x, pct, axis=0)\n",
    "elb, em, eub = np.percentile(e, pct, axis=0)\n",
    "plot(axes[1], lb, m, ub, 'threshold', elb, em, eub)\n",
    "\n",
    "x = fit['sr_pupil'] - fit['sr']\n",
    "x = x[:, mask]\n",
    "e = (fit['sr_pupil_alpha']/fit['sr_pupil_beta'])/(fit['sr_alpha']/fit['sr_beta'])\n",
    "lb, m, ub = np.percentile(x, pct, axis=0)\n",
    "elb, em, eub = np.percentile(e, pct, axis=0)\n",
    "\n",
    "plot(axes[2], lb, m, ub, 'SR', elb, em, eub)"
   ]
  },
  {
   "cell_type": "code",
   "execution_count": null,
   "metadata": {},
   "outputs": [],
   "source": [
    "from scipy import stats\n",
    "stats.wilcoxon(m)"
   ]
  },
  {
   "cell_type": "code",
   "execution_count": null,
   "metadata": {},
   "outputs": [],
   "source": [
    "x = fit['threshold_pupil_delta'].mean(axis=0)\n",
    "y = fit['slope_pupil_delta'].mean(axis=0)\n",
    "z = (fit['sr_pupil'] - fit['sr']).mean(axis=0)\n",
    "\n",
    "f, ax = pl.subplots(1, 3, figsize=(15, 5))\n",
    "ax[0].plot(x, y, 'k.')\n",
    "ax[1].plot(x, z, 'k.')\n",
    "ax[2].plot(y, z, 'k.')\n",
    "\n"
   ]
  },
  {
   "cell_type": "code",
   "execution_count": null,
   "metadata": {},
   "outputs": [],
   "source": [
    "x = fit['threshold_pupil_delta'].mean(axis=0)\n",
    "x.argmin()\n",
    "cells[x.argmin()]\n",
    "\n",
    "print(cells[x.argmin()])\n",
    "plot_fit(er, sr, fit, cell_map, cells[x.argmin()], pl.gca())"
   ]
  },
  {
   "cell_type": "code",
   "execution_count": null,
   "metadata": {},
   "outputs": [],
   "source": [
    "\n",
    "f, axes = pl.subplots(5, 5, figsize=(10, 10))\n",
    "for cell, ax in zip(cells[mask], axes.ravel()):\n",
    "    plot_fit(er, sr, fit, cell_map, cell, ax)\n",
    "    i = cell_map[cell] - 1\n",
    "    lb, m, ub = np.percentile(fit['threshold_pupil_delta'][:, i], [2.5, 50.0, 97.5])\n",
    "    \n",
    "    ax.set_title(f'{cell}\\n({lb:.0f} | {m:.0f} | {ub:.0f})')\n",
    "    \n",
    "f.tight_layout()"
   ]
  },
  {
   "cell_type": "code",
   "execution_count": null,
   "metadata": {},
   "outputs": [],
   "source": [
    "fit['threshold'].mean(axis=0).shape"
   ]
  },
  {
   "cell_type": "code",
   "execution_count": null,
   "metadata": {},
   "outputs": [],
   "source": [
    "import seaborn as sns\n",
    "\n",
    "    \n"
   ]
  },
  {
   "cell_type": "code",
   "execution_count": null,
   "metadata": {},
   "outputs": [],
   "source": [
    "pred = c['slope'] * (level - c['threshold']) + c['sr']\n",
    "pred[level <= c['threshold']] = c['sr']\n",
    "pred = np.clip(pred, 0, np.inf)\n",
    "ax.plot(level, pred, color='seagreen')\n",
    "\n",
    "pred = (c['slope'] + c['slope_pupil_delta']) * (level - (c['threshold'] + c['threshold_pupil_delta'])) + (c['sr'] + c['sr_pupil_delta'])\n",
    "pred[level <= c['threshold'] + c['threshold_pupil_delta']] = (c['sr'] + c['sr_pupil_delta'])\n",
    "pred = np.clip(pred, 0, np.inf)\n",
    "ax.plot(level, pred, color='orchid')"
   ]
  },
  {
   "cell_type": "code",
   "execution_count": null,
   "metadata": {},
   "outputs": [],
   "source": [
    "arviz.plot_trace(fit);"
   ]
  },
  {
   "cell_type": "code",
   "execution_count": null,
   "metadata": {},
   "outputs": [],
   "source": [
    "fit['slope'].shape"
   ]
  },
  {
   "cell_type": "code",
   "execution_count": null,
   "metadata": {},
   "outputs": [],
   "source": [
    "#cell = cells[0]\n",
    "cell = 'TAR010c-15-4'\n",
    "e = er.loc[cell].reset_index()\n",
    "s = sr.loc[cell].reset_index()\n",
    "#fit = fit_data(e, s)\n",
    "display(fit)\n",
    "\n",
    "ax = pl.gca()\n",
    "plot_raw_data(e, s, ax)\n",
    "plot_fit(fit, ax)"
   ]
  },
  {
   "cell_type": "code",
   "execution_count": null,
   "metadata": {},
   "outputs": [],
   "source": []
  },
  {
   "cell_type": "code",
   "execution_count": null,
   "metadata": {},
   "outputs": [],
   "source": [
    "import arviz\n",
    "arviz.plot_trace(fit)"
   ]
  },
  {
   "cell_type": "code",
   "execution_count": null,
   "metadata": {},
   "outputs": [],
   "source": [
    "fits = {}\n",
    "for cell in cells:\n",
    "    e = er.loc[cell].reset_index()\n",
    "    s = sr.loc[cell].reset_index()\n",
    "    fits[cell] = fit_data(e, s)"
   ]
  },
  {
   "cell_type": "code",
   "execution_count": null,
   "metadata": {},
   "outputs": [],
   "source": [
    "fit = fits['BOL006b-18-1']\n",
    "print(fit)\n",
    "arviz.plot_trace(fit);"
   ]
  },
  {
   "cell_type": "code",
   "execution_count": null,
   "metadata": {},
   "outputs": [],
   "source": [
    "#ax = pl.gca()\n",
    "#cell = cells[0]\n",
    "#e = er.loc[cell].reset_index()\n",
    "#s = sr.loc[cell].reset_index()\n",
    "#fit = fits[cell]\n",
    "\n",
    "f, axes = pl.subplots(9, 9, figsize=(20, 20))\n",
    "\n",
    "for cell, ax in zip(cells, axes.ravel()):\n",
    "    try:\n",
    "        e = er.loc[cell].reset_index()\n",
    "        s = sr.loc[cell].reset_index()\n",
    "        fit = fits[cell]\n",
    "        plot_raw_data(e, s, ax)\n",
    "        plot_fit(fit, ax)\n",
    "        ax.set_title(cell)\n",
    "    except:\n",
    "        pass\n",
    "    \n",
    "f.tight_layout()"
   ]
  },
  {
   "cell_type": "code",
   "execution_count": null,
   "metadata": {},
   "outputs": [],
   "source": [
    "    \n",
    "f, axes = pl.subplots(6, 6, figsize=(15, 15))\n",
    "#f, axes = pl.subplots(5, 5, figsize=(10, 10), squeeze=False)\n",
    "\n",
    "fits = {}\n",
    "for cell, ax in zip(cells, axes.ravel()):\n",
    "    fits[cell] = fit_cell(cell, 1, ax)\n",
    "    \n",
    "f.tight_layout()"
   ]
  },
  {
   "cell_type": "code",
   "execution_count": null,
   "metadata": {},
   "outputs": [],
   "source": [
    "e"
   ]
  },
  {
   "cell_type": "code",
   "execution_count": null,
   "metadata": {},
   "outputs": [],
   "source": [
    "np.percentile(fits[0]['threshold'], [2, 97])"
   ]
  },
  {
   "cell_type": "code",
   "execution_count": null,
   "metadata": {},
   "outputs": [],
   "source": [
    "def get_trace(fit, variable):\n",
    "    x = fit.extract(variable, permuted=True)[variable]\n",
    "    if x.ndim == 1:\n",
    "        x = x[..., np.newaxis]\n",
    "    return x\n",
    "\n",
    "#sr_mean = get_trace(fit, 'sr_mean')\n",
    "sr_pupil = get_trace(fit, 'sr_pupil')\n",
    "sr_cell = get_trace(fit, 'sr_cell')\n",
    "sr_cell_pupil = get_trace(fit, 'sr_cell_pupil')\n",
    "#sr_cell_sd = get_trace(fit, 'sr_cell_sd')\n",
    "sr_cell_pupil_sd = get_trace(fit, 'sr_cell_pupil_sd')\n",
    "\n",
    "slope_mean = get_trace(fit, 'slope_mean')\n",
    "slope_pupil = get_trace(fit, 'slope_pupil')\n",
    "slope_cell = get_trace(fit, 'slope_cell')\n",
    "slope_cell_pupil = get_trace(fit, 'slope_cell_pupil')\n",
    "slope_cell_sd = get_trace(fit, 'slope_cell_sd')\n",
    "slope_cell_pupil_sd = get_trace(fit, 'slope_cell_pupil_sd')\n",
    "\n",
    "threshold_mean = get_trace(fit, 'threshold_mean')\n",
    "threshold_pupil = get_trace(fit, 'threshold_pupil')\n",
    "threshold_cell = get_trace(fit, 'threshold_cell')\n",
    "threshold_cell_pupil = get_trace(fit, 'threshold_cell_pupil')\n",
    "threshold_cell_sd = get_trace(fit, 'threshold_cell_sd')\n",
    "threshold_cell_pupil_sd = get_trace(fit, 'threshold_cell_pupil_sd')\n",
    "\n",
    "sr = sr_cell\n",
    "sr_pupil = sr + (sr_pupil + sr_cell_pupil * sr_cell_pupil_sd)\n",
    "\n",
    "slope = slope_mean + (slope_cell * slope_cell_sd) \n",
    "slope_pupil = slope + (slope_pupil + slope_cell_pupil * slope_cell_pupil_sd)\n",
    "\n",
    "threshold = threshold_mean + (threshold_cell * threshold_cell_sd) \n",
    "threshold_pupil = threshold + (threshold_pupil + threshold_cell_pupil * threshold_cell_pupil_sd)\n",
    "\n",
    "level_start, level_stop = -20, 80\n",
    "spike_start, spike_stop = 0, 110\n",
    "\n",
    "x = np.arange(level_start, level_stop)[:, np.newaxis, np.newaxis]\n",
    "\n",
    "y = (x - threshold) * slope\n",
    "y = np.clip(y, sr, np.inf)\n",
    "\n",
    "y_pupil = (x - threshold_pupil) * slope_pupil\n",
    "y_pupil = np.clip(y_pupil, sr_pupil, np.inf)"
   ]
  },
  {
   "cell_type": "code",
   "execution_count": null,
   "metadata": {},
   "outputs": [],
   "source": [
    "def get_density(y, bins):\n",
    "    fn = lambda x: np.histogram(x, bins, density=True)[0]\n",
    "    return np.apply_along_axis(fn, 1, y)"
   ]
  },
  {
   "cell_type": "code",
   "execution_count": null,
   "metadata": {},
   "outputs": [],
   "source": [
    "sr"
   ]
  },
  {
   "cell_type": "code",
   "execution_count": null,
   "metadata": {},
   "outputs": [],
   "source": [
    "import itertools\n",
    "\n",
    "cell_indices = [0, 1, 2, 3, 4]\n",
    "f, ax = pl.subplots(3, 3, figsize=(10, 10))\n",
    "ax_iter = itertools.chain(*ax)\n",
    "bins = np.arange(spike_start, spike_stop, 0.1)\n",
    "pupil = 'small'\n",
    "\n",
    "for ax, cell_index in zip(ax_iter, cell_indices):\n",
    "    cell_name = cellid.categories[cell_index]\n",
    "    if pupil == 'small':\n",
    "        density = get_density(y[..., cell_index], bins)\n",
    "        raw = df.loc[cell_name].loc[1]\n",
    "        s_raw = spont.loc[cell_name].loc[1]\n",
    "        s_fit = sr[:, cell_index].mean()\n",
    "    else:\n",
    "        density = get_density(y_pupil[..., cell_index], bins)\n",
    "        raw = df.loc[cell_name].loc[2]\n",
    "        s_raw = spont.loc[cell_name].loc[2]\n",
    "        s_fit = sr_pupil[:, cell_index].mean()\n",
    "        \n",
    "    ax.plot(raw, 'o', color='white')\n",
    "    ax.set_title(cell_name)\n",
    "    ax.imshow(density.T, origin='lower', aspect='auto', \n",
    "              extent=(level_start, level_stop, spike_start, spike_stop))\n",
    "    ax.axvline(threshold[:, cell_index].mean(), color='black')\n",
    "    ax.axhline(s_raw, color='white')\n",
    "    ax.axhline(s_fit, color='black')\n",
    "    #ax.axhline(spont.loc[cell_name], color='white')\n"
   ]
  },
  {
   "cell_type": "code",
   "execution_count": null,
   "metadata": {},
   "outputs": [],
   "source": [
    "c = 'BOL006b-21-1'\n",
    "#c = 'TAR010c-24-2'\n",
    "#c = 'gus021d-b1'\n",
    "#i = cellid.categories.tolist().index(c)\n",
    "i = 56\n",
    "\n",
    "for i_cell in range(i, i+1):\n",
    "    pl.figure()\n",
    "\n",
    "    for i_pupil in (0, 1):\n",
    "        sr_i = sr[:, i_cell] + sr_pupil[:, i_cell] * i_pupil\n",
    "        threshold_i = threshold[:, i_cell] + threshold_pupil[:, i_cell] * i_pupil\n",
    "        slope_i = slope[:, i_cell] + slope_pupil[:, i_cell] * i_pupil\n",
    "        intercept_i = sr_i - threshold_i * slope_i\n",
    "        \n",
    "        print(f'{sr_i.mean():.2f} {intercept_i.mean():.2f} {slope_i.mean():.2f}')\n",
    "        print(f'{sr_i.min():.2f} {intercept_i.min():.2f} {slope_i.min():.2f}')\n",
    "\n",
    "        x = np.arange(-20, 100)[..., np.newaxis]\n",
    "        y = np.clip(slope_i * x + intercept_i, sr_i, np.inf)\n",
    "\n",
    "        m = (d['cell_code'] == i_cell) & (d['pupil'] == (i_pupil + 1))\n",
    "        subset = d.loc[m]\n",
    "        p, = pl.plot(subset['level'], subset['spikes'], 'o')\n",
    "\n",
    "        pl.plot(x, y[:, ::100], '-', alpha=0.005, color=p.get_color());"
   ]
  },
  {
   "cell_type": "code",
   "execution_count": null,
   "metadata": {},
   "outputs": [],
   "source": [
    "#az.plot_forest(fit, kind='ridgeplot', var_names=['sp_mean'], combined=True, figsize=(4, 4))\n",
    "az.plot_trace(fit, var_names=('sr_mean', 'sr_pupil', 'threshold_mean', 'threshold_pupil', 'slope_mean', 'slope_pupil'))"
   ]
  },
  {
   "cell_type": "code",
   "execution_count": null,
   "metadata": {},
   "outputs": [],
   "source": [
    "x = fit.summary(['tp_mean', 'tp_sd', 'srp_mean', 'srp_sd', 'sp_mean', 'sp_sd'])\n",
    "pd.DataFrame(x['summary'], index=x['summary_rownames'], columns=x['summary_colnames'])"
   ]
  },
  {
   "cell_type": "code",
   "execution_count": null,
   "metadata": {},
   "outputs": [],
   "source": [
    "threshold_pupil = get_trace(fit, 'threshold_pupil')\n",
    "lb, median, ub = np.percentile(threshold_pupil, [2.5, 50.0, 97.5], 0)\n",
    "i = np.arange(len(median))\n",
    "ax = pl.gca()\n",
    "ax.errorbar(i, median, yerr=np.vstack((abs(lb-median), ub-median)))\n",
    "ax.axhline(0, color='k')\n",
    "ax.set_ylabel('Threshold (dB SPL)')\n",
    "ax.xaxis.set_ticks([])\n",
    "ax.grid()\n",
    "\n",
    "i, j = median.argmin(), median.argmax()\n",
    "print(i, j)\n",
    "lb[i], ub[i]"
   ]
  },
  {
   "cell_type": "code",
   "execution_count": null,
   "metadata": {},
   "outputs": [],
   "source": [
    "sr_pupil = get_trace(fit, 'sr_pupil')\n",
    "lb, median, ub = np.percentile(sr_pupil, [2.5, 50.0, 97.5], 0)\n",
    "i = np.arange(len(median))\n",
    "ax = pl.gca()\n",
    "ax.errorbar(i, median, yerr=np.vstack((abs(lb-median), ub-median)))\n",
    "ax.axhline(0, color='k')\n",
    "ax.set_ylabel('SR (sp/sec)')\n",
    "ax.xaxis.set_ticks([])\n",
    "ax.grid()"
   ]
  },
  {
   "cell_type": "code",
   "execution_count": null,
   "metadata": {},
   "outputs": [],
   "source": [
    "slope_pupil = get_trace(fit, 'slope_pupil')\n",
    "lb, median, ub = np.percentile(slope_pupil, [2.5, 50.0, 97.5], 0)\n",
    "i = np.arange(len(median))\n",
    "ax = pl.gca()\n",
    "ax.errorbar(i, median, yerr=np.vstack((abs(lb-median), ub-median)))\n",
    "ax.axhline(0, color='k')\n",
    "ax.set_ylabel('Slope')\n",
    "ax.xaxis.set_ticks([])\n",
    "ax.grid()"
   ]
  },
  {
   "cell_type": "code",
   "execution_count": null,
   "metadata": {},
   "outputs": [],
   "source": [
    "sr_pupil = get_trace(fit, 'sr_pupil')\n",
    "lb, median, ub = np.percentile(sr_pupil, [2.5, 50.0, 97.5], 0)\n",
    "i = np.arange(len(median))\n",
    "ax = pl.gca()\n",
    "ax.errorbar(i, median, yerr=np.vstack((abs(lb-median), ub-median)))\n",
    "ax.axhline(0, color='k')\n",
    "ax.set_ylabel('SR (sp/sec)')\n",
    "ax.xaxis.set_ticks([])\n",
    "ax.grid()"
   ]
  },
  {
   "cell_type": "code",
   "execution_count": null,
   "metadata": {},
   "outputs": [],
   "source": [
    "fit"
   ]
  },
  {
   "cell_type": "code",
   "execution_count": null,
   "metadata": {},
   "outputs": [],
   "source": []
  }
 ],
 "metadata": {
  "kernelspec": {
   "display_name": "Python 3",
   "language": "python",
   "name": "python3"
  },
  "language_info": {
   "codemirror_mode": {
    "name": "ipython",
    "version": 3
   },
   "file_extension": ".py",
   "mimetype": "text/x-python",
   "name": "python",
   "nbconvert_exporter": "python",
   "pygments_lexer": "ipython3",
   "version": "3.6.5"
  }
 },
 "nbformat": 4,
 "nbformat_minor": 2
}
