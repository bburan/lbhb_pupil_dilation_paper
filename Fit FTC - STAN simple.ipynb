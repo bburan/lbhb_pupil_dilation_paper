{
 "cells": [
  {
   "cell_type": "code",
   "execution_count": null,
   "metadata": {},
   "outputs": [],
   "source": [
    "from lbhb.psychometric import CachedStanModel\n",
    "import pandas as pd\n",
    "import numpy as np\n",
    "import arviz as az"
   ]
  },
  {
   "cell_type": "code",
   "execution_count": null,
   "metadata": {},
   "outputs": [],
   "source": [
    "sig = pd.read_csv('psth_sig_cellids.csv')['cellid'].unique()\n",
    "df = pd.read_csv('frequency_tuning_curves_for_bburan.csv')\n",
    "df.columns = [s.replace(' ', '') for s in df.columns]\n",
    "cols = ['pupil', 'frequency', 'ftc_count', 'ftc_time', 'spont_count', 'spont_time']\n",
    "df = pd.wide_to_long(df, cols, 'cellid', 'idx', sep='_').dropna()\n",
    "df['frequency'] = np.log(df['frequency'])\n",
    "\n",
    "mask = df.apply(lambda x: x.name[0] in sig, axis=1)\n",
    "df = df.loc[mask]\n",
    "\n",
    "sr = df.groupby(['cellid', 'pupil'])[['spont_count', 'spont_time']].first().sort_index()\n",
    "ftc = df.reset_index().set_index(['cellid', 'pupil', 'frequency'])[['ftc_count', 'ftc_time']].sort_index()\n",
    "m = ftc['ftc_time'] > 0\n",
    "ftc = ftc.loc[m]"
   ]
  },
  {
   "cell_type": "code",
   "execution_count": null,
   "metadata": {},
   "outputs": [],
   "source": [
    "model = CachedStanModel('gaussian_FTC_simple.stan')\n",
    "cells = ftc.index.get_level_values('cellid').unique()\n",
    "pupil = 1\n",
    "\n",
    "e = ftc.xs(pupil, level='pupil').reset_index()\n",
    "s = sr.xs(pupil, level='pupil').reset_index()\n",
    "#start_cell, end_cell = cells[0], cells[10]\n",
    "#e = ftc.loc[start_cell:end_cell].xs(pupil, level='pupil').reset_index()\n",
    "#s = sr.loc[start_cell:end_cell].xs(pupil, level='pupil').reset_index()\n",
    "\n",
    "cells = e['cellid'].unique()\n",
    "cell_map = {c: i+1 for i, c in enumerate(cells)}\n",
    "e['cell_index'] = e['cellid'].apply(cell_map.get).values\n",
    "s['cell_index'] = s['cellid'].map(cell_map.get)\n",
    "s.sort_values('cell_index', inplace=True)\n",
    "\n",
    "n = len(e)\n",
    "frequency = e['frequency'].values\n",
    "spike_count = e['ftc_count'].values.astype('i')\n",
    "cell = e['cell_index'].values.astype('i')\n",
    "n_cells = len(cells)\n",
    "sample_time = e['ftc_time'].values\n",
    "spont_count = s['spont_count'].values.astype('i')\n",
    "spont_time = s['spont_time'].values\n",
    "\n",
    "#import functools\n",
    "#initer = functools.partial(init_values, e, s, n_cells)\n",
    "#\n",
    "#def init_values(e, s, n_cells, chain_id):\n",
    "#    print(f'INITIALIZING VALUES FOR CHAIN {chain_id}')\n",
    "#    #bf_start = e.groupby('cellid')['frequency'].mean().values \n",
    "#    #bw_start = e.groupby('cellid')['frequency'].agg(['min', 'max']) \\\n",
    "#    #    .rename(columns={'min': 'lb', 'max': 'ub'}) \\\n",
    "#    #    .eval('(ub-lb)/4').values\n",
    "#    #y = s.set_index('cellid').eval('spont_count/spont_time')\n",
    "#    #x = e.set_index('cellid').eval('ftc_count/ftc_time')\n",
    "#    #sr_start = y.values\n",
    "#    #gain_start = (x-y).groupby('cellid').apply(lambda x: np.abs(x).min()).values\n",
    "#    \n",
    "#    return {\n",
    "#        'bf': bf_start,\n",
    "#        'bandwidth': bw_start,\n",
    "#        'offset': sr_start,\n",
    "#        'gain': gain_start,\n",
    "#    }\n",
    "\n",
    "data = {\n",
    "    'n': n,\n",
    "    'n_cells': n_cells,\n",
    "    'cell': cell,\n",
    "    'freq': frequency,\n",
    "    'spike_count': spike_count,\n",
    "    'sample_time': sample_time,\n",
    "    'spont_count': spont_count,\n",
    "    'spont_time': spont_time,\n",
    "}\n",
    "\n",
    "fit = model.sampling(data, control={'adapt_delta': 0.99, 'max_treedepth': 20})"
   ]
  },
  {
   "cell_type": "code",
   "execution_count": null,
   "metadata": {},
   "outputs": [],
   "source": []
  },
  {
   "cell_type": "code",
   "execution_count": null,
   "metadata": {},
   "outputs": [],
   "source": [
    "import numpy as np\n",
    "import pylab as pl\n",
    "\n",
    "def atleast_2d(x):\n",
    "    if x.ndim == 1:\n",
    "        return x[..., np.newaxis]\n",
    "    else:\n",
    "        return x\n",
    "\n",
    "f, axes = pl.subplots(5, 5, figsize=(10, 10), squeeze=False)\n",
    "\n",
    "for cell, ax in zip(cells, axes.ravel()):\n",
    "    i = cell_map[cell] - 1\n",
    "\n",
    "    bf = atleast_2d(fit['bf']).mean(axis=0)[i]\n",
    "    gain = atleast_2d(fit['gain']).mean(axis=0)[i]\n",
    "    bw = atleast_2d(fit['bandwidth']).mean(axis=0)[i]\n",
    "    offset = atleast_2d(fit['offset']).mean(axis=0)[i]\n",
    "    \n",
    "    print(f'BF {bf:.2f}, gain {gain:.2f}, bw {bw:.2f}, offset {offset:.2f}')\n",
    "\n",
    "    frequency = np.arange(3, 11, 0.1)\n",
    "    d = ftc.loc[cell, 1].reset_index()\n",
    "    s = sr.loc[cell, 1]\n",
    "    l = np.exp(-0.5*np.square((frequency-bf)/bw))\n",
    "    l = offset + gain * l\n",
    "\n",
    "    ax.plot(frequency, l, 'k-')\n",
    "    ax.plot(d['frequency'], d.eval('ftc_count/ftc_time'), 'go-')\n",
    "    ax.axhline(s['spont_count']/s['spont_time'])\n",
    "    \n",
    "az.plot_trace(fit, ['offset'])"
   ]
  },
  {
   "cell_type": "code",
   "execution_count": null,
   "metadata": {},
   "outputs": [],
   "source": []
  },
  {
   "cell_type": "code",
   "execution_count": null,
   "metadata": {},
   "outputs": [],
   "source": []
  },
  {
   "cell_type": "code",
   "execution_count": null,
   "metadata": {},
   "outputs": [],
   "source": []
  },
  {
   "cell_type": "code",
   "execution_count": null,
   "metadata": {},
   "outputs": [],
   "source": [
    "ftc.reset_index()['frequency'].describe()"
   ]
  },
  {
   "cell_type": "code",
   "execution_count": null,
   "metadata": {},
   "outputs": [],
   "source": [
    "fit['bandwidth'].mean(axis=0).mean()\n",
    "fit['bandwidth_mean'].mean(), fit['bandwidth_sd'].mean()"
   ]
  },
  {
   "cell_type": "code",
   "execution_count": null,
   "metadata": {},
   "outputs": [],
   "source": [
    "av.plot_trace(fit, ['bandwidth_mean', 'bandwidth_sd', 'offset_alpha', 'offset_beta'])"
   ]
  },
  {
   "cell_type": "code",
   "execution_count": null,
   "metadata": {},
   "outputs": [],
   "source": []
  }
 ],
 "metadata": {
  "kernelspec": {
   "display_name": "Python 3",
   "language": "python",
   "name": "python3"
  },
  "language_info": {
   "codemirror_mode": {
    "name": "ipython",
    "version": 3
   },
   "file_extension": ".py",
   "mimetype": "text/x-python",
   "name": "python",
   "nbconvert_exporter": "python",
   "pygments_lexer": "ipython3",
   "version": "3.6.5"
  }
 },
 "nbformat": 4,
 "nbformat_minor": 2
}
