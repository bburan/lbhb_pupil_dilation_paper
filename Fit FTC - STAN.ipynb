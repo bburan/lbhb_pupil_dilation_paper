{
 "cells": [
  {
   "cell_type": "code",
   "execution_count": null,
   "metadata": {},
   "outputs": [],
   "source": [
    "from lbhb.psychometric import CachedStanModel\n",
    "import pandas as pd\n",
    "import numpy as np\n",
    "import arviz as az"
   ]
  },
  {
   "cell_type": "code",
   "execution_count": null,
   "metadata": {},
   "outputs": [],
   "source": []
  },
  {
   "cell_type": "code",
   "execution_count": null,
   "metadata": {},
   "outputs": [],
   "source": [
    "sig = pd.read_csv('psth_sig_cellids.csv')['cellid'].unique()\n",
    "df = pd.read_csv('frequency_tuning_curves_for_bburan.csv')\n",
    "df.columns = [s.replace(' ', '') for s in df.columns]\n",
    "cols = ['pupil', 'frequency', 'ftc_count', 'ftc_time', 'spont_count', 'spont_time']\n",
    "df = pd.wide_to_long(df, cols, 'cellid', 'idx', sep='_').dropna()\n",
    "df['frequency'] = np.log(df['frequency'])\n",
    "\n",
    "mask = df.apply(lambda x: x.name[0] in sig, axis=1)\n",
    "df = df.loc[mask]"
   ]
  },
  {
   "cell_type": "code",
   "execution_count": null,
   "metadata": {},
   "outputs": [],
   "source": [
    "sr = df.groupby(['cellid', 'pupil'])[['spont_count', 'spont_time']].first().sort_index()\n",
    "ftc = df.reset_index().set_index(['cellid', 'pupil', 'frequency'])[['ftc_count', 'ftc_time']].sort_index()\n",
    "m = ftc['ftc_time'] > 0\n",
    "ftc = ftc.loc[m]"
   ]
  },
  {
   "cell_type": "code",
   "execution_count": null,
   "metadata": {},
   "outputs": [],
   "source": [
    "sr_dist = sr.eval('spont_count/spont_time')\n",
    "ftc_dist = ftc.eval('ftc_count/ftc_time')\n",
    "\n",
    "from scipy.stats import gamma, norm\n",
    "\n",
    "alpha, _, theta = gamma.fit(sr_dist.values, loc=0)\n",
    "beta = 1/theta\n",
    "print(alpha, beta)\n",
    "\n",
    "x = np.arange(0, 100)\n",
    "y = gamma.pdf(x, alpha, 0, 1/beta)\n",
    "pl.plot(x, y)\n",
    "pl.hist(z, bins=100, density=True);\n",
    "\n",
    "\n",
    "x = ftc_dist.rename('ftc').reset_index().join(sr_dist.rename('sr'), on=sr_dist.index.names)\n",
    "gains = x.set_index('cellid').eval('ftc-sr').groupby('cellid').apply(lambda x: max(x.max(), x.min(), key=abs))\n",
    "\n",
    "mu, sd = norm.fit(gains.values)\n",
    "print(mu, sd)\n",
    "x = np.arange(-30, 120)\n",
    "y = norm.pdf(x, mu, sd)\n",
    "pl.figure()\n",
    "pl.plot(x, y)\n",
    "pl.hist(gains, bins=10, density=True);"
   ]
  },
  {
   "cell_type": "code",
   "execution_count": null,
   "metadata": {},
   "outputs": [],
   "source": [
    "model = CachedStanModel('gaussian_FTC.stan')\n",
    "cells = ftc.index.get_level_values('cellid').unique()\n",
    "pupil = 1\n",
    "\n",
    "#e = ftc.xs(pupil, level='pupil').reset_index()\n",
    "#s = sr.xs(pupil, level='pupil').reset_index()\n",
    "start_cell, end_cell = cells[0], cells[0]\n",
    "e = ftc.loc[start_cell:end_cell].xs(pupil, level='pupil').reset_index()\n",
    "s = sr.loc[start_cell:end_cell].xs(pupil, level='pupil').reset_index()\n",
    "\n",
    "cells = e['cellid'].unique()\n",
    "cell_map = {c: i+1 for i, c in enumerate(cells)}\n",
    "e['cell_index'] = e['cellid'].apply(cell_map.get).values\n",
    "s['cell_index'] = s['cellid'].map(cell_map.get)\n",
    "s.sort_values('cell_index', inplace=True)\n",
    "\n",
    "n = len(e)\n",
    "frequency = e['frequency'].values\n",
    "spike_count = e['ftc_count'].values.astype('i')\n",
    "cell = e['cell_index'].values.astype('i')\n",
    "n_cells = len(cells)\n",
    "sample_time = e['ftc_time'].values\n",
    "spont_count = s['spont_count'].values.astype('i')\n",
    "spont_time = s['spont_time'].values\n",
    "\n",
    "data = {\n",
    "    'n': n,\n",
    "    'n_cells': n_cells,\n",
    "    'cell': cell,\n",
    "    'freq': frequency,\n",
    "    'spike_count': spike_count,\n",
    "    'sample_time': sample_time,\n",
    "    'spont_count': spont_count,\n",
    "    'spont_time': spont_time,\n",
    "}\n",
    "fit = model.sampling(data)"
   ]
  },
  {
   "cell_type": "code",
   "execution_count": null,
   "metadata": {},
   "outputs": [],
   "source": [
    "import numpy as np\n",
    "import pylab as pl\n",
    "\n",
    "def atleast_2d(x):\n",
    "    if x.ndim == 1:\n",
    "        return x[..., np.newaxis]\n",
    "    else:\n",
    "        return x\n",
    "\n",
    "f, axes = pl.subplots(2, 2, figsize=(5, 5), squeeze=False)\n",
    "\n",
    "for cell, ax in zip(cells, axes.ravel()):\n",
    "    i = cell_map[cell] - 1\n",
    "\n",
    "    bf = atleast_2d(fit['bf']).mean(axis=0)[i]\n",
    "    gain = atleast_2d(fit['gain']).mean(axis=0)[i]\n",
    "    bw = atleast_2d(fit['bandwidth']).mean(axis=0)[i]\n",
    "    offset = atleast_2d(fit['offset']).mean(axis=0)[i]\n",
    "    \n",
    "    print(f'BF {bf:.2f}, gain {gain:.2f}, bw {bw:.2f}, offset {offset:.2f}')\n",
    "\n",
    "    frequency = np.arange(3, 11, 0.1)\n",
    "    d = ftc.loc[cell, 1].reset_index()\n",
    "    s = sr.loc[cell, 1]\n",
    "    l = np.exp(-0.5*np.square((frequency-bf)/bw))\n",
    "    l = offset + gain * l\n",
    "\n",
    "    ax.plot(frequency, l, 'k-')\n",
    "    ax.plot(d['frequency'], d.eval('ftc_count/ftc_time'), 'go-')\n",
    "    ax.axhline(s['spont_count']/s['spont_time'])\n",
    "    \n",
    "az.plot_trace(fit, ['bf_mean', 'bf_sd', 'bandwidth_alpha', 'bandwidth_beta', 'gain_mean', 'gain_sd', 'offset_alpha', 'offset_beta']);"
   ]
  },
  {
   "cell_type": "code",
   "execution_count": null,
   "metadata": {},
   "outputs": [],
   "source": [
    "ftc.reset_index()['frequency'].describe()"
   ]
  },
  {
   "cell_type": "code",
   "execution_count": null,
   "metadata": {},
   "outputs": [],
   "source": [
    "fit['bandwidth'].mean(axis=0).mean()\n",
    "fit['bandwidth_mean'].mean(), fit['bandwidth_sd'].mean()"
   ]
  },
  {
   "cell_type": "code",
   "execution_count": null,
   "metadata": {},
   "outputs": [],
   "source": [
    "av.plot_trace(fit, ['bandwidth_mean', 'bandwidth_sd', 'offset_alpha', 'offset_beta'])"
   ]
  },
  {
   "cell_type": "code",
   "execution_count": null,
   "metadata": {},
   "outputs": [],
   "source": []
  }
 ],
 "metadata": {
  "kernelspec": {
   "display_name": "Python 3",
   "language": "python",
   "name": "python3"
  },
  "language_info": {
   "codemirror_mode": {
    "name": "ipython",
    "version": 3
   },
   "file_extension": ".py",
   "mimetype": "text/x-python",
   "name": "python",
   "nbconvert_exporter": "python",
   "pygments_lexer": "ipython3",
   "version": "3.6.5"
  }
 },
 "nbformat": 4,
 "nbformat_minor": 2
}
