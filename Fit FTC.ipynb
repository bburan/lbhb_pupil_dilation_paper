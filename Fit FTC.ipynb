{
 "cells": [
  {
   "cell_type": "code",
   "execution_count": null,
   "metadata": {},
   "outputs": [],
   "source": [
    "%matplotlib inline"
   ]
  },
  {
   "cell_type": "code",
   "execution_count": null,
   "metadata": {},
   "outputs": [],
   "source": [
    "import os\n",
    "os.environ['MKL_THREADING_LAYER'] = 'GNU'\n",
    "import pandas as pd\n",
    "import numpy as np\n",
    "import arviz as az\n",
    "import pylab as pl"
   ]
  },
  {
   "cell_type": "code",
   "execution_count": null,
   "metadata": {},
   "outputs": [],
   "source": [
    "df = pd.read_csv('frequency_tuning_curves_for_bburan.csv')\n",
    "df.columns = [s.replace(' ', '') for s in df.columns]\n",
    "cols = ['pupil', 'frequency', 'ftc_count', 'ftc_time', 'spont_count', 'spont_time']\n",
    "df = pd.wide_to_long(df, cols, 'cellid', 'idx', sep='_').dropna()\n",
    "\n",
    "sr = df.groupby(['cellid', 'pupil'])[['spont_count', 'spont_time']].first().sort_index()\n",
    "ftc = df.reset_index().set_index(['cellid', 'pupil', 'frequency'])[['ftc_count', 'ftc_time']].sort_index()"
   ]
  },
  {
   "cell_type": "code",
   "execution_count": null,
   "metadata": {},
   "outputs": [],
   "source": [
    "x = ftc.xs(1, level='pupil').eval('ftc_count/ftc_time')\n",
    "f, axes = pl.subplots(10, 10, figsize=(15, 15))\n",
    "\n",
    "for c, ax in zip(cells, axes.ravel()):\n",
    "    x.loc[c].plot(ax=ax)\n",
    "    ax.set_xscale(\"log\")"
   ]
  },
  {
   "cell_type": "code",
   "execution_count": null,
   "metadata": {},
   "outputs": [],
   "source": [
    "import matplotlib as mp\n",
    "mp.colors.is_color_like('ewoijgw')"
   ]
  },
  {
   "cell_type": "code",
   "execution_count": null,
   "metadata": {},
   "outputs": [],
   "source": [
    "#cell = 'BOL005c-04-1'\n",
    "cells = ftc.index.get_level_values('cellid').unique()\n",
    "pupil = 1\n",
    "\n",
    "#e = ftc.loc[cells[0]:cells[10]].xs(1, level='pupil').reset_index()\n",
    "#s = sr.loc[cells[0]:cells[10]].xs(1, level='pupil').reset_index()\n",
    "e = ftc.xs(1, level='pupil').reset_index()\n",
    "s = sr.xs(1, level='pupil').reset_index()\n",
    "#e = ftc.reset_index()\n",
    "#s = sr.reset_index()\n",
    "\n",
    "cells = e['cellid'].unique()\n",
    "cell_map = {c: i for i, c in enumerate(cells)}\n",
    "cell_index = e['cellid'].apply(cell_map.get).values\n",
    "s['cell_index'] = s['cellid'].map(cell_map.get)\n",
    "\n",
    "n = len(e)\n",
    "n_cells = len(cell_map)\n",
    "\n",
    "#pupil = e['pupil'] - 1\n",
    "frequency = np.log(e['frequency'].values)\n",
    "spike_count = e['ftc_count'].values.astype('i')\n",
    "sample_time = e['ftc_time'].values\n",
    "spont_count = s['spont_count']\n",
    "spont_time = s['spont_time']"
   ]
  },
  {
   "cell_type": "code",
   "execution_count": null,
   "metadata": {},
   "outputs": [],
   "source": [
    "import pymc3 as pm\n",
    "\n",
    "with pm.Model() as model:\n",
    "    BF = pm.Normal('BF_cell', mu=7.5, sd=2, shape=n_cells)\n",
    "    BF_pupil = pm.Normal('BF_pupil', mu=7)\n",
    "    \n",
    "    bandwidth_alpha = pm.Bound(pm.Normal, lower=0)('bandwidth_alpha', mu=2, sd=1)\n",
    "    bandwidth_beta = pm.Bound(pm.Normal, lower=0)('bandwidth_beta', mu=0.5, sd=0.25)\n",
    "    bandwidth = pm.Gamma('bandwidth', alpha=bandwidth_alpha, beta=bandwidth_beta)\n",
    "    bandwidth_sd = pm.HalfNormal('bandwidth_sd', sd=1)\n",
    "    bandwidth = pm.HalfNormal('bandwidth_cell', sd=bandwidth_sd, shape=n_cells)\n",
    "    \n",
    "    gain_mean = pm.Normal('gain', mu=10, sd=20)\n",
    "    gain_sd = pm.HalfNormal('gain_sd', sd=20)\n",
    "    gain = pm.Normal('gain_cell', mu=gain_mean, sd=gain_sd, shape=n_cells)\n",
    "    \n",
    "    offset_sd = pm.HalfNormal('offset_sd', sd=2)\n",
    "    offset = pm.HalfNormal('offset_cell', sd=offset_sd, shape=n_cells)\n",
    "    sr_obs = pm.Poisson('sr_obs', mu=offset*spont_time, observed=spont_count)\n",
    "    \n",
    "    fc = BF[cell_index]\n",
    "    o = offset[cell_index]\n",
    "    bw = bandwidth[cell_index]\n",
    "    g = gain[cell_index]\n",
    "    rate = o + g * np.exp(-((frequency-fc)**2/(2*bw**2)))\n",
    "    ftc_obs = pm.Poisson('ftc_obs', mu=rate*sample_time, observed=spike_count)\n",
    "    \n",
    "    fit = pm.sample()"
   ]
  },
  {
   "cell_type": "code",
   "execution_count": null,
   "metadata": {},
   "outputs": [],
   "source": [
    "az.plot_trace(fit, ['offset_cell'])"
   ]
  },
  {
   "cell_type": "code",
   "execution_count": null,
   "metadata": {},
   "outputs": [],
   "source": [
    "BF = fit['BF_cell'].mean(axis=0)\n",
    "gain = fit['gain_cell'].mean(axis=0)\n",
    "offset = fit['offset_cell'].mean(axis=0)\n",
    "bandwidth = fit['bandwidth_cell'].mean(axis=0)"
   ]
  },
  {
   "cell_type": "code",
   "execution_count": null,
   "metadata": {},
   "outputs": [],
   "source": [
    "f, axes = pl.subplots(10, 10, figsize=(20, 20))\n",
    "\n",
    "for cell, ax in zip(cells, axes.ravel()):\n",
    "    i = cell_map[cell]\n",
    "\n",
    "    g = gain[i]\n",
    "    bf = BF[i]\n",
    "    o = offset[i]\n",
    "    bw = bandwidth[i]\n",
    "\n",
    "    f = np.log(np.arange(100, 50000))\n",
    "    rate = o + g * np.exp(-((f-bf)**2/(2*bw**2)))\n",
    "    ax.plot(f, rate)\n",
    "\n",
    "    x = e.query(f'cellid == \"{cell}\"')\n",
    "    ax.plot(np.log(x['frequency']), x.eval('ftc_count/ftc_time'))\n",
    "    #ax.axhline(s.query(f'cellid == \"{cell}\"').eval('spont_count/spont_time').iloc[0])\n",
    "    ax.set_xscale('log')"
   ]
  }
 ],
 "metadata": {
  "kernelspec": {
   "display_name": "Python 3",
   "language": "python",
   "name": "python3"
  },
  "language_info": {
   "codemirror_mode": {
    "name": "ipython",
    "version": 3
   },
   "file_extension": ".py",
   "mimetype": "text/x-python",
   "name": "python",
   "nbconvert_exporter": "python",
   "pygments_lexer": "ipython3",
   "version": "3.6.5"
  }
 },
 "nbformat": 4,
 "nbformat_minor": 2
}
