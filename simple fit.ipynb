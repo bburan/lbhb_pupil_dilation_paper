{
 "cells": [
  {
   "cell_type": "code",
   "execution_count": null,
   "metadata": {},
   "outputs": [],
   "source": []
  },
  {
   "cell_type": "code",
   "execution_count": null,
   "metadata": {},
   "outputs": [],
   "source": [
    "import pandas as pd\n",
    "import seaborn as sns\n",
    "from scipy import stats\n",
    "import pylab as pl\n",
    "import numpy as np\n",
    "from lbhb.psychometric import CachedStanModel\n",
    "%matplotlib inline\n",
    "\n",
    "df = pd.read_csv('rate_level_functions_for_bburan.csv')\n",
    "df.rename(columns=lambda x: x.replace(' ', ''), inplace=True)\n",
    "df = pd.wide_to_long(df, ['pupil', 'level', 'spikes'], 'cellid', 'idx', sep='_')\n",
    "df.dropna(inplace=True)\n",
    "df = df.reset_index().set_index(['cellid', 'pupil', 'level'], verify_integrity=True)['spikes']\n",
    "df.sort_index(inplace=True)"
   ]
  },
  {
   "cell_type": "code",
   "execution_count": null,
   "metadata": {},
   "outputs": [],
   "source": [
    "sr = df.groupby(['cellid', 'pupil']).min().clip(lower=0.1).unstack()\n",
    "\n",
    "def sr_dist(sr):\n",
    "    pl.hist(sr, density=True, bins=100);\n",
    "    x = np.arange(0, 50, 0.1)\n",
    "    a, loc, scale = stats.gamma.fit(sr, floc=0)\n",
    "    y = stats.gamma.pdf(x, a, loc, scale)\n",
    "    pl.plot(x, y, 'k-')\n",
    "    y = stats.gamma.pdf(x, 0.5, 0, 1/0.1)\n",
    "    pl.plot(x, y, 'r-')\n",
    "    print(f'alpha = {a:.2f}, beta = {1/scale:.2f}')\n",
    "    \n",
    "sr_dist(sr[1])\n",
    "sr_dist(sr[2])"
   ]
  },
  {
   "cell_type": "code",
   "execution_count": null,
   "metadata": {},
   "outputs": [],
   "source": [
    "df.groupby(['pupil', 'level']).mean().unstack('pupil').plot()"
   ]
  },
  {
   "cell_type": "code",
   "execution_count": null,
   "metadata": {},
   "outputs": [],
   "source": [
    "import arviz as az"
   ]
  },
  {
   "cell_type": "code",
   "execution_count": null,
   "metadata": {},
   "outputs": [],
   "source": [
    "fit"
   ]
  },
  {
   "cell_type": "code",
   "execution_count": null,
   "metadata": {},
   "outputs": [],
   "source": [
    "c = 'BOL006b-21-1'\n",
    "d = df.loc[c].unstack('pupil')[2]\n",
    "\n",
    "data = {\n",
    "    'n': len(d),\n",
    "    'x': d.index.values,\n",
    "    'y': d.values,\n",
    "}\n",
    "fit = hs_model.sampling(data, iter=10000)\n",
    "az.plot_posterior(fit, ['sr', 'slope', 'threshold'])"
   ]
  },
  {
   "cell_type": "code",
   "execution_count": null,
   "metadata": {},
   "outputs": [],
   "source": [
    "trace = fit.to_dataframe(['sr', 'slope', 'intercept'], permuted=True)\n",
    "slope = trace['slope'].values\n",
    "intercept = trace['intercept'].values\n",
    "sr = trace['sr'].values\n",
    "\n",
    "x = np.arange(-20, 100)[..., np.newaxis]\n",
    "\n",
    "y = slope * x + intercept\n",
    "y = np.clip(y, sr, np.inf)\n",
    "y_mean = y.mean(axis=1)\n",
    "pl.plot(d, 'ko')\n",
    "pl.plot(x, y[:, ::20], 'k-', alpha=0.005)\n",
    "pl.plot(x, y_mean, 'k-')\n"
   ]
  },
  {
   "cell_type": "code",
   "execution_count": null,
   "metadata": {},
   "outputs": [],
   "source": [
    "y.shape[-1]/20"
   ]
  },
  {
   "cell_type": "code",
   "execution_count": null,
   "metadata": {},
   "outputs": [],
   "source": [
    "y[:, ::20].shape"
   ]
  },
  {
   "cell_type": "code",
   "execution_count": null,
   "metadata": {},
   "outputs": [],
   "source": [
    "pl.imshow(y, aspect='auto')"
   ]
  },
  {
   "cell_type": "code",
   "execution_count": null,
   "metadata": {},
   "outputs": [],
   "source": [
    "bins = np.arange(500)\n",
    "bin_centers = bins[:-1] + 0.5\n",
    "z = np.apply_along_axis(lambda x: np.histogram(x, bins=bins), 1, y)[0]"
   ]
  },
  {
   "cell_type": "code",
   "execution_count": null,
   "metadata": {},
   "outputs": [],
   "source": [
    "y.shape"
   ]
  },
  {
   "cell_type": "code",
   "execution_count": null,
   "metadata": {},
   "outputs": [],
   "source": [
    "len(z)\n",
    "#counts, bins = np.histogram(y[0], bins=bins)\n",
    "#pl.plot(bin_centers, counts)"
   ]
  },
  {
   "cell_type": "code",
   "execution_count": null,
   "metadata": {},
   "outputs": [],
   "source": [
    "az."
   ]
  }
 ],
 "metadata": {
  "kernelspec": {
   "display_name": "Python 3",
   "language": "python",
   "name": "python3"
  },
  "language_info": {
   "codemirror_mode": {
    "name": "ipython",
    "version": 3
   },
   "file_extension": ".py",
   "mimetype": "text/x-python",
   "name": "python",
   "nbconvert_exporter": "python",
   "pygments_lexer": "ipython3",
   "version": "3.6.5"
  }
 },
 "nbformat": 4,
 "nbformat_minor": 2
}
