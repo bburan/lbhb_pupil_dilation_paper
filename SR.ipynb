{
 "cells": [
  {
   "cell_type": "code",
   "execution_count": null,
   "metadata": {},
   "outputs": [],
   "source": [
    "import pandas as pd\n",
    "import seaborn as sns\n",
    "from scipy import stats\n",
    "import pylab as pl\n",
    "import numpy as np\n",
    "import arviz as az\n",
    "import pickle\n",
    "%matplotlib inline"
   ]
  },
  {
   "cell_type": "code",
   "execution_count": null,
   "metadata": {},
   "outputs": [],
   "source": [
    "import importlib\n",
    "import support\n",
    "importlib.reload(support)\n",
    "from support import CachedStanModel, get_metric, forest_plot, load_rates"
   ]
  },
  {
   "cell_type": "code",
   "execution_count": null,
   "metadata": {},
   "outputs": [],
   "source": [
    "sr = load_rates()['sr']"
   ]
  },
  {
   "cell_type": "code",
   "execution_count": null,
   "metadata": {},
   "outputs": [],
   "source": [
    "pl.figure()\n",
    "sr.eval('count/time').groupby('pupil').hist(bins=50, density=True)\n",
    "pl.xlabel('rate (sp/sec)')\n",
    "pl.ylabel('PDF')"
   ]
  },
  {
   "cell_type": "code",
   "execution_count": null,
   "metadata": {},
   "outputs": [],
   "source": [
    "sr_model = CachedStanModel('sr_fit.stan')"
   ]
  },
  {
   "cell_type": "code",
   "execution_count": null,
   "metadata": {},
   "outputs": [],
   "source": [
    "sr_unstacked = sr.unstack('pupil')\n",
    "all_index = sr_unstacked.index\n",
    "data = {\n",
    "    'n_cells': len(sr_unstacked),\n",
    "    'spike_count_A': sr_unstacked['count'][0].astype('i').values,\n",
    "    'sample_time_A': sr_unstacked['time'][0].values,\n",
    "    'spike_count_B': sr_unstacked['count'][1].astype('i').values,\n",
    "    'sample_time_B': sr_unstacked['time'][1].values,\n",
    "}\n",
    "sr_all_fit = sr_model.sampling(data, n_jobs=8, iter=20000)"
   ]
  },
  {
   "cell_type": "code",
   "execution_count": null,
   "metadata": {},
   "outputs": [],
   "source": [
    "az.plot_trace(sr_all_fit, ['rate_A', 'rate_B', 'rate_change'])\n",
    "all_summary = az.summary(sr_all_fit, credible_interval=0.9)"
   ]
  },
  {
   "cell_type": "code",
   "execution_count": null,
   "metadata": {},
   "outputs": [],
   "source": [
    "f, axes = pl.subplots(1, 1, figsize=(4, 3))\n",
    "rate_cell_change = get_metric(all_summary, 'rate_cell_change', all_index)\n",
    "rate_change = get_metric(all_summary, 'rate_change')\n",
    "forest_plot(axes, rate_cell_change, rate_change, 'SR (sp/sec)')"
   ]
  }
 ],
 "metadata": {
  "kernelspec": {
   "display_name": "Python 3",
   "language": "python",
   "name": "python3"
  },
  "language_info": {
   "codemirror_mode": {
    "name": "ipython",
    "version": 3
   },
   "file_extension": ".py",
   "mimetype": "text/x-python",
   "name": "python",
   "nbconvert_exporter": "python",
   "pygments_lexer": "ipython3",
   "version": "3.6.5"
  }
 },
 "nbformat": 4,
 "nbformat_minor": 2
}
