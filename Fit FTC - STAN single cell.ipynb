{
 "cells": [
  {
   "cell_type": "code",
   "execution_count": null,
   "metadata": {},
   "outputs": [],
   "source": [
    "from lbhb.psychometric import CachedStanModel\n",
    "import pandas as pd\n",
    "import numpy as np\n",
    "import pylab as pl\n",
    "import arviz as az\n"
   ]
  },
  {
   "cell_type": "code",
   "execution_count": null,
   "metadata": {},
   "outputs": [],
   "source": [
    "#sig = pd.read_csv('psth_sig_cellids.csv')['cellid'].unique()\n",
    "df = pd.read_csv('frequency_tuning_curves_for_bburan.csv')\n",
    "df.columns = [s.replace(' ', '') for s in df.columns]\n",
    "cols = ['pupil', 'frequency', 'ftc_count', 'ftc_time', 'spont_count', 'spont_time']\n",
    "df = pd.wide_to_long(df, cols, 'cellid', 'idx', sep='_').dropna()\n",
    "df['pupil'] -= 1\n",
    "df['frequency'] = np.log(df['frequency'])\n",
    "\n",
    "#mask = df.apply(lambda x: x.name[0] in sig, axis=1)\n",
    "#df = df.loc[mask]\n",
    "\n",
    "sr = df.groupby(['cellid', 'pupil'])[['spont_count', 'spont_time']].first().sort_index()\n",
    "ftc = df.reset_index().set_index(['cellid', 'pupil', 'frequency'])[['ftc_count', 'ftc_time']].sort_index()\n",
    "m = ftc['ftc_time'] > 0\n",
    "ftc = ftc.loc[m]\n",
    "\n",
    "cells = ftc.index.get_level_values('cellid').unique()"
   ]
  },
  {
   "cell_type": "code",
   "execution_count": null,
   "metadata": {},
   "outputs": [],
   "source": [
    "def get_cell_data(cell, ftc, sr):\n",
    "    e = ftc.loc[cell].reset_index()\n",
    "    s = sr.loc[cell].eval('spont_count/spont_time')\n",
    "\n",
    "    n = len(e)\n",
    "    frequency = e['frequency'].values\n",
    "    spike_count = e['ftc_count'].values.astype('i')\n",
    "    sample_time = e['ftc_time'].values\n",
    "    pupil = e['pupil'].astype('i').values\n",
    "\n",
    "    return {\n",
    "        'n': n,\n",
    "        'freq': frequency,\n",
    "        'spike_count': spike_count,\n",
    "        'sample_time': sample_time,\n",
    "        'sr': s.loc[0],\n",
    "        'sr_lg': s.loc[1],\n",
    "        'pupil': pupil,\n",
    "    }\n"
   ]
  },
  {
   "cell_type": "code",
   "execution_count": null,
   "metadata": {},
   "outputs": [],
   "source": [
    "model = CachedStanModel('gaussian_FTC_single_cell.stan')\n",
    "fits = {}\n",
    "for cell in cells:\n",
    "    try:\n",
    "        data = get_cell_data(cell, ftc, sr)\n",
    "        fits[cell] = model.sampling(data, iter=20000, n_jobs=8, control={'adapt_delta': 0.99})\n",
    "    except:\n",
    "        fits[cell] = None"
   ]
  },
  {
   "cell_type": "code",
   "execution_count": null,
   "metadata": {},
   "outputs": [],
   "source": [
    "with open('ftc_model.pkl', 'wb') as fh:\n",
    "    pickle.dump(model, fh)"
   ]
  },
  {
   "cell_type": "code",
   "execution_count": null,
   "metadata": {},
   "outputs": [],
   "source": [
    "import pickle\n",
    "with open('ftc_fits.pkl', 'wb') as fh:\n",
    "    pickle.dump(model, fh)\n",
    "    pickle.dump(fits, fh)"
   ]
  },
  {
   "cell_type": "code",
   "execution_count": null,
   "metadata": {},
   "outputs": [],
   "source": [
    "def plot_fit(ax, fit, data):\n",
    "    bf = fit['bf'].mean()\n",
    "    gain = fit['gain'].mean()\n",
    "    bw = fit['bw'].mean()\n",
    "    offset = data['sr']\n",
    "\n",
    "    frequency = np.arange(3, 11, 0.1)\n",
    "    l = np.exp(-0.5*np.square((frequency-bf)/bw))\n",
    "    l = offset + gain * l\n",
    "    ax.plot(np.exp(frequency), l, ':', color='orchid', label='Sm. pupil')\n",
    "    ax.axhline(offset, color='orchid')\n",
    "\n",
    "    bf += fit['bf_pupil_delta'].mean()\n",
    "    gain += fit['gain_pupil_delta'].mean()\n",
    "    bw += fit['bw_pupil_delta'].mean()\n",
    "    offset = data['sr_lg']\n",
    "    l = np.exp(-0.5*np.square((frequency-bf)/bw))\n",
    "    l = offset + gain * l\n",
    "    ax.plot(np.exp(frequency), l, ':', color='seagreen', label='Lg. pupil')\n",
    "    ax.axhline(offset, color='seagreen')\n",
    "\n",
    "    pupil = data['pupil']\n",
    "    frequency = data['freq']\n",
    "    evoked_rate = data['spike_count'] / data['sample_time']\n",
    "    #spont_rate = data['spont_count'] / data['spont_time']\n",
    "\n",
    "    m_pupil = pupil == 0\n",
    "    ax.plot(np.exp(frequency[m_pupil]), evoked_rate[m_pupil], 'o-', color='orchid')\n",
    "    m_pupil = pupil == 1\n",
    "    ax.plot(np.exp(frequency[m_pupil]), evoked_rate[m_pupil], 'o-', color='seagreen')\n",
    "\n",
    "    #ax.axhline(spont_rate[0], color='orchid', ls=':', lw=2)\n",
    "    #ax.axhline(spont_rate[1], color='seagreen', ls=':', lw=2)\n",
    "    ax.set_xscale('log')\n",
    "\n",
    "f, axes = pl.subplots(10, 12, figsize=(20, 20))\n",
    "\n",
    "for ax, (cell, fit) in zip(axes.ravel(), fits.items()):\n",
    "    data = get_cell_data(cell, ftc, sr)\n",
    "    plot_fit(ax, fit, data)\n",
    "    \n",
    "ax.legend()"
   ]
  },
  {
   "cell_type": "code",
   "execution_count": null,
   "metadata": {},
   "outputs": [],
   "source": [
    "def plot_fit(ax, fit, data):\n",
    "    bf = fit['bf'].mean()\n",
    "    gain = fit['gain'].mean()\n",
    "    bw = fit['bw'].mean()\n",
    "    offset = data['sr']\n",
    "\n",
    "    frequency = np.arange(3, 11, 0.1)\n",
    "    l = np.exp(-0.5*np.square((frequency-bf)/bw))\n",
    "    l = offset * gain * l\n",
    "    ax.plot(np.exp(frequency), l, ':', color='orchid', label='Sm. pupil')\n",
    "    ax.axhline(offset, color='orchid')\n",
    "\n",
    "    bf += fit['bf_delta'].mean()\n",
    "    gain *= fit['gain_ratio'].mean()\n",
    "    bw *= fit['bw_ratio'].mean()\n",
    "    offset = data['sr_lg']\n",
    "    l = np.exp(-0.5*np.square((frequency-bf)/bw))\n",
    "    l = offset * gain * l\n",
    "    ax.plot(np.exp(frequency), l, ':', color='seagreen', label='Lg. pupil')\n",
    "    ax.axhline(offset, color='seagreen')\n",
    "\n",
    "    pupil = data['pupil']\n",
    "    frequency = data['freq']\n",
    "    evoked_rate = data['spike_count'] / data['sample_time']\n",
    "    #spont_rate = data['spont_count'] / data['spont_time']\n",
    "\n",
    "    m_pupil = pupil == 0\n",
    "    ax.plot(np.exp(frequency[m_pupil]), evoked_rate[m_pupil], 'o-', color='orchid')\n",
    "    m_pupil = pupil == 1\n",
    "    ax.plot(np.exp(frequency[m_pupil]), evoked_rate[m_pupil], 'o-', color='seagreen')\n",
    "\n",
    "    #ax.axhline(spont_rate[0], color='orchid', ls=':', lw=2)\n",
    "    #ax.axhline(spont_rate[1], color='seagreen', ls=':', lw=2)\n",
    "    ax.set_xscale('log')\n",
    "\n",
    "f, axes = pl.subplots(10, 12, figsize=(20, 20))\n",
    "\n",
    "for ax, (cell, fit) in zip(axes.ravel(), fits.items()):\n",
    "    data = get_cell_data(cell, ftc, sr)\n",
    "    plot_fit(ax, fit, data)\n",
    "    \n",
    "ax.legend()"
   ]
  },
  {
   "cell_type": "code",
   "execution_count": null,
   "metadata": {},
   "outputs": [],
   "source": [
    "results = [az.summary(f, credible_interval=0.9).to_dataframe() for f in fits.values()]\n",
    "results = pd.concat(results, keys=fits.keys(), names=['cell'])"
   ]
  },
  {
   "cell_type": "code",
   "execution_count": null,
   "metadata": {},
   "outputs": [],
   "source": [
    "results.head()"
   ]
  },
  {
   "cell_type": "code",
   "execution_count": null,
   "metadata": {},
   "outputs": [],
   "source": [
    "def plot(ax, df, measure):\n",
    "    m = df['mean']\n",
    "    lb = df['hpd 5.00%']\n",
    "    ub = df['hpd 95.00%']\n",
    "    gr = df['gelman-rubin statistic']\n",
    "    stat = stats.wilcoxon(m)\n",
    "\n",
    "    #ax.axvline(0)\n",
    "    #t = ax.get_xaxis_transform()\n",
    "    #fc = 'lightgreen' if (ensemble_lb > 0) or (ensemble_ub < 0) else 'gray'\n",
    "    #c = 'seagreen' if (ensemble_lb > 0) or (ensemble_ub < 0) else 'k'\n",
    "    #ax.axvline(ensemble_m, color=c)\n",
    "    #r = mp.patches.Rectangle((ensemble_lb, 0), ensemble_ub-ensemble_lb, 1,\n",
    "    #                         transform=t, ec='none', fc=fc)\n",
    "    #ax.add_patch(r)\n",
    "    n_sig =0 \n",
    "    for i, (a, d, b, g) in enumerate(zip(lb, m, ub, gr)):\n",
    "        if g > 1.1:\n",
    "            c = 'r'\n",
    "        else:\n",
    "            c = 'g' if (b < 0) or (a > 0) else 'k'\n",
    "            n_sig += 1 if (b < 0) or (a > 0) else 0\n",
    "        ax.plot([a, b], [i, i], '-', color=c, lw=0.5)\n",
    "        ax.plot([d], [i], 'o', color=c)\n",
    "        \n",
    "    ax.set_xlabel(f'Change in {measure} (lg. re sm. pupil)\\n{n_sig} sig. out of {len(lb)}\\nWilcoxon p={stat.pvalue:0.4f}')\n",
    "    sns.despine(ax=ax, top=True, left=True, right=True, bottom=False)\n",
    "    ax.yaxis.set_ticks_position('none')\n",
    "    ax.yaxis.set_ticks([])\n",
    "    ax.grid()\n",
    "    return ax\n",
    "\n",
    "\n",
    "import seaborn as sns\n",
    "from scipy import stats\n",
    "bf_pupil_delta = results['bf_pupil_delta'].unstack().sort_values('mean')\n",
    "bw_pupil_delta = results['bw_pupil_delta'].unstack().sort_values('mean')\n",
    "gain_pupil_delta = results['gain_pupil_delta'].unstack().sort_values('mean')\n",
    "\n",
    "\n",
    "f, axes = pl.subplots(1, 3, figsize=(9, 3))\n",
    "\n",
    "plot(axes[0], bf_pupil_delta, 'BF')\n",
    "plot(axes[1], bw_pupil_delta, 'BW')\n",
    "plot(axes[2], gain_pupil_delta, 'gain')"
   ]
  },
  {
   "cell_type": "code",
   "execution_count": null,
   "metadata": {},
   "outputs": [],
   "source": [
    "m = bw_pupil_delta['gelman-rubin statistic'] < 1.1\n",
    "np.median(bw_pupil_delta.loc[m]['mean'])"
   ]
  },
  {
   "cell_type": "code",
   "execution_count": null,
   "metadata": {},
   "outputs": [],
   "source": []
  }
 ],
 "metadata": {
  "kernelspec": {
   "display_name": "Python 3",
   "language": "python",
   "name": "python3"
  },
  "language_info": {
   "codemirror_mode": {
    "name": "ipython",
    "version": 3
   },
   "file_extension": ".py",
   "mimetype": "text/x-python",
   "name": "python",
   "nbconvert_exporter": "python",
   "pygments_lexer": "ipython3",
   "version": "3.6.5"
  }
 },
 "nbformat": 4,
 "nbformat_minor": 2
}
