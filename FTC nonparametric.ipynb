{
 "cells": [
  {
   "cell_type": "code",
   "execution_count": null,
   "metadata": {},
   "outputs": [],
   "source": [
    "import numpy as np\n",
    "import pandas as pd\n",
    "from support import load_rates\n",
    "import pylab as pl\n",
    "from scipy import stats\n",
    "\n",
    "rates = load_rates()\n",
    "ftc = rates['ftc'].eval('count/time').rename('ftc')\n",
    "sr = rates['sr'].eval('count/time').rename('sr')\n",
    "\n",
    "f, axes = pl.subplots(2, 2, figsize=(10, 10))"
   ]
  },
  {
   "cell_type": "code",
   "execution_count": null,
   "metadata": {},
   "outputs": [],
   "source": [
    "x = ftc.unstack('pupil')\n",
    "n = len(x)\n",
    "i = np.arange(n)\n",
    "np.random.shuffle(i)\n"
   ]
  },
  {
   "cell_type": "code",
   "execution_count": null,
   "metadata": {},
   "outputs": [],
   "source": [
    "ax = axes[0, 0]\n",
    "bf = ftc.groupby(['cellid', 'pupil']).apply(lambda x: x.idxmax()[-1])\n",
    "lb, ub = bf.min(), bf.max()\n",
    "bf = bf.unstack('pupil')\n",
    "ax.plot(bf[0], bf[1], 'ko')\n",
    "ax.plot([lb, ub], [lb, ub], 'r-')\n",
    "s = stats.wilcoxon(bf[0], bf[1])\n",
    "t = 'BF (freq with max rate)'\n",
    "ax.set_title(f'{t}\\np = {s.pvalue:.4f}')\n",
    "ax.set_xlabel('Small pupil')\n",
    "ax.set_xlabel('Large pupil')"
   ]
  },
  {
   "cell_type": "code",
   "execution_count": null,
   "metadata": {},
   "outputs": [],
   "source": [
    "def center_of_mass(x):\n",
    "    x = x.rename('ftc').reset_index()\n",
    "    try:\n",
    "        return np.average(x['frequency'], weights=x['ftc'])\n",
    "    except:\n",
    "        return np.nan\n",
    "    \n",
    "ax = axes[0, 1]\n",
    "bf_mass = ftc.groupby(['cellid', 'pupil']).apply(center_of_mass)\n",
    "lb, ub = bf_mass.min(), bf_mass.max()\n",
    "bf_mass = bf_mass.unstack('pupil')\n",
    "ax.plot(bf_mass[0], bf_mass[1], 'ko')\n",
    "ax.plot([lb, ub], [lb, ub], 'r-')\n",
    "s = stats.wilcoxon(bf_mass[0], bf_mass[1])\n",
    "t = 'BF (center of mass)'\n",
    "ax.set_title(f'{t}\\np = {s.pvalue:.4f}')\n",
    "ax.set_xlabel('Small pupil')\n",
    "ax.set_ylabel('Large pupil')"
   ]
  },
  {
   "cell_type": "code",
   "execution_count": null,
   "metadata": {},
   "outputs": [],
   "source": [
    "ax = axes[1, 0]\n",
    "x = ftc.reset_index().join(sr, on=sr.index.names).set_index(ftc.index.names)\n",
    "x['gain'] = np.abs(x['ftc']-x['sr'])\n",
    "gain = x.groupby(['cellid', 'pupil'])['gain'].apply(lambda x: x.max())\n",
    "lb, ub = gain.min(), gain.max()\n",
    "gain = gain.unstack('pupil')\n",
    "ax.plot(gain[0], gain[1], 'ko')\n",
    "ax.plot([lb, ub], [lb, ub], 'r-')\n",
    "s = stats.wilcoxon(gain[0], gain[1])\n",
    "t = 'Gain (max_rate-sr)'\n",
    "ax.set_title(f'{t}\\np = {s.pvalue:.4f}')\n",
    "ax.set_xlabel('Small pupil')\n",
    "ax.set_ylabel('Large pupil')"
   ]
  },
  {
   "cell_type": "code",
   "execution_count": null,
   "metadata": {},
   "outputs": [],
   "source": [
    "ax = axes[1, 1]\n",
    "x = ftc.reset_index().join(sr, on=sr.index.names).set_index(ftc.index.names)\n",
    "x['abs_delta'] = np.abs(x['ftc'] - x['sr'])\n",
    "bw = x.groupby(['cellid', 'pupil']).apply(lambda x: np.sum(x['abs_delta'] >= 0.5*x['ftc'].max()))\n",
    "lb, ub = bw.min(), bw.max()\n",
    "bw = bw.unstack('pupil')\n",
    "ax.plot(bw[0], bw[1], 'ko')\n",
    "ax.plot([lb, ub], [lb, ub], 'r-')\n",
    "s = stats.wilcoxon(bw[0], bw[1])\n",
    "t = 'Bandwidth (# of bins with abs(rate-sr) >= 0.5*max_rate)'\n",
    "ax.set_title(f'{t}\\np = {s.pvalue:.4f}')\n",
    "ax.set_xlabel('Small pupil')\n",
    "ax.set_ylabel('Large pupil')"
   ]
  },
  {
   "cell_type": "code",
   "execution_count": null,
   "metadata": {},
   "outputs": [],
   "source": [
    "f.tight_layout()\n",
    "display(f)"
   ]
  },
  {
   "cell_type": "code",
   "execution_count": null,
   "metadata": {},
   "outputs": [],
   "source": []
  }
 ],
 "metadata": {
  "kernelspec": {
   "display_name": "Python 3",
   "language": "python",
   "name": "python3"
  },
  "language_info": {
   "codemirror_mode": {
    "name": "ipython",
    "version": 3
   },
   "file_extension": ".py",
   "mimetype": "text/x-python",
   "name": "python",
   "nbconvert_exporter": "python",
   "pygments_lexer": "ipython3",
   "version": "3.6.5"
  }
 },
 "nbformat": 4,
 "nbformat_minor": 2
}
