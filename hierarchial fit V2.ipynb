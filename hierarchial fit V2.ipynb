{
 "cells": [
  {
   "cell_type": "code",
   "execution_count": null,
   "metadata": {},
   "outputs": [],
   "source": [
    "import pandas as pd\n",
    "import seaborn as sns\n",
    "from scipy import stats\n",
    "import pylab as pl\n",
    "import numpy as np\n",
    "from lbhb.psychometric import CachedStanModel\n",
    "import arviz as az\n",
    "%matplotlib inline"
   ]
  },
  {
   "cell_type": "code",
   "execution_count": null,
   "metadata": {},
   "outputs": [],
   "source": [
    "rlf = pd.read_csv('rate_level_functions_for_bburan.csv')\n",
    "rlf.columns = [s.replace(' ', '') for s in rlf.columns]\n",
    "cols = ['pupil', 'level', 'rlf_count', 'rlf_time', 'spont_count', 'spont_time']\n",
    "rlf = pd.wide_to_long(rlf, cols, 'cellid', 'idx', sep='_').dropna()\n",
    "rlf['pupil'] -= 1\n",
    "\n",
    "# evoked rate\n",
    "er = rlf.reset_index().set_index(['cellid', 'pupil', 'level'], verify_integrity=True)[['rlf_count', 'rlf_time']]\n",
    "# spont rate\n",
    "sr = rlf.groupby(['cellid', 'pupil'])[['spont_count', 'spont_time']].first()\n",
    "\n",
    "pl.figure()\n",
    "sr.eval('spont_count/spont_time').groupby('pupil').hist()\n",
    "pl.figure()\n",
    "er.eval('rlf_count/rlf_time').groupby('level').mean().plot()"
   ]
  },
  {
   "cell_type": "code",
   "execution_count": null,
   "metadata": {},
   "outputs": [],
   "source": [
    "cells = er.index.get_level_values('cellid').unique()"
   ]
  },
  {
   "cell_type": "code",
   "execution_count": null,
   "metadata": {},
   "outputs": [],
   "source": [
    "def plot_raw_data(e, s, ax):\n",
    "    x = [0, 0] + e['level'].tolist()\n",
    "    y = s.eval('spont_count/spont_time').tolist() + e.eval('rlf_count/rlf_time').tolist()\n",
    "    size = np.array(s['spont_time'].tolist() + e['rlf_time'].tolist())\n",
    "    color = s['pupil'].tolist() + e['pupil'].tolist()\n",
    "    colors = {0: 'seagreen', 1: 'orchid'}\n",
    "    color = [colors[e] for e in color]\n",
    "    size = 100 * size/size.mean()\n",
    "    ax.scatter(x, y, size, color, alpha=0.5)\n",
    "\n",
    "def plot_fit(fit, ax):\n",
    "    c = fit.to_dataframe(permuted=True).mean()\n",
    "    level = np.arange(-10, 80)\n",
    "    pred = c['slope'] * (level - c['threshold']) + c['sr']\n",
    "    pred[level <= c['threshold']] = c['sr']\n",
    "    ax.plot(level, pred, color='seagreen')\n",
    "\n",
    "    pred = (c['slope'] + c['slope_pupil_delta']) * (level - (c['threshold'] + c['threshold_pupil_delta'])) + (c['sr'] + c['sr_pupil_delta'])\n",
    "    pred[level <= c['threshold'] + c['threshold_pupil_delta']] = (c['sr'] + c['sr_pupil_delta'])\n",
    "    pred = np.clip(pred, 0, np.inf)\n",
    "    ax.plot(level, pred, color='orchid')\n",
    "    \n",
    "def fit_data(e, s):\n",
    "    data = {\n",
    "        'n': len(e),\n",
    "        'evoked_time': e['rlf_time'].values,\n",
    "        'evoked_count': e['rlf_count'].astype('i').values,\n",
    "        'evoked_level': e['level'].values,\n",
    "        'pupil': e['pupil'].astype('i').values,\n",
    "        'sr_count': s['spont_count'].astype('i').values,\n",
    "        'sr_time': s['spont_time'].values,\n",
    "    }\n",
    "    return model.sampling(data, iter=20000, control={'adapt_delta': 0.999, 'max_treedepth': 25})\n"
   ]
  },
  {
   "cell_type": "code",
   "execution_count": null,
   "metadata": {},
   "outputs": [],
   "source": [
    "model = CachedStanModel('hockey_stick.stan')"
   ]
  },
  {
   "cell_type": "code",
   "execution_count": null,
   "metadata": {},
   "outputs": [],
   "source": [
    "#cell = cells[0]\n",
    "cell = 'TAR010c-15-4'\n",
    "e = er.loc[cell].reset_index()\n",
    "s = sr.loc[cell].reset_index()\n",
    "fit = fit_data(e, s)\n",
    "display(fit)\n",
    "\n",
    "ax = pl.gca()\n",
    "plot_raw_data(e, s, ax)\n",
    "plot_fit(fit, ax)"
   ]
  },
  {
   "cell_type": "code",
   "execution_count": null,
   "metadata": {},
   "outputs": [],
   "source": [
    "import arviz\n",
    "arviz.plot_trace(fit)"
   ]
  },
  {
   "cell_type": "code",
   "execution_count": null,
   "metadata": {},
   "outputs": [],
   "source": [
    "fits = {}\n",
    "for cell in cells:\n",
    "    e = er.loc[cell].reset_index()\n",
    "    s = sr.loc[cell].reset_index()\n",
    "    fits[cell] = fit_data(e, s)"
   ]
  },
  {
   "cell_type": "code",
   "execution_count": null,
   "metadata": {},
   "outputs": [],
   "source": [
    "fit = fits['BOL006b-18-1']\n",
    "print(fit)\n",
    "arviz.plot_trace(fit);"
   ]
  },
  {
   "cell_type": "code",
   "execution_count": null,
   "metadata": {},
   "outputs": [],
   "source": [
    "#ax = pl.gca()\n",
    "#cell = cells[0]\n",
    "#e = er.loc[cell].reset_index()\n",
    "#s = sr.loc[cell].reset_index()\n",
    "#fit = fits[cell]\n",
    "\n",
    "f, axes = pl.subplots(9, 9, figsize=(20, 20))\n",
    "\n",
    "for cell, ax in zip(cells, axes.ravel()):\n",
    "    try:\n",
    "        e = er.loc[cell].reset_index()\n",
    "        s = sr.loc[cell].reset_index()\n",
    "        fit = fits[cell]\n",
    "        plot_raw_data(e, s, ax)\n",
    "        plot_fit(fit, ax)\n",
    "        ax.set_title(cell)\n",
    "    except:\n",
    "        pass\n",
    "    \n",
    "f.tight_layout()"
   ]
  },
  {
   "cell_type": "code",
   "execution_count": null,
   "metadata": {},
   "outputs": [],
   "source": [
    "    \n",
    "f, axes = pl.subplots(6, 6, figsize=(15, 15))\n",
    "#f, axes = pl.subplots(5, 5, figsize=(10, 10), squeeze=False)\n",
    "\n",
    "fits = {}\n",
    "for cell, ax in zip(cells, axes.ravel()):\n",
    "    fits[cell] = fit_cell(cell, 1, ax)\n",
    "    \n",
    "f.tight_layout()"
   ]
  },
  {
   "cell_type": "code",
   "execution_count": null,
   "metadata": {},
   "outputs": [],
   "source": [
    "e"
   ]
  },
  {
   "cell_type": "code",
   "execution_count": null,
   "metadata": {},
   "outputs": [],
   "source": [
    "np.percentile(fits[0]['threshold'], [2, 97])"
   ]
  },
  {
   "cell_type": "code",
   "execution_count": null,
   "metadata": {},
   "outputs": [],
   "source": [
    "def get_trace(fit, variable):\n",
    "    x = fit.extract(variable, permuted=True)[variable]\n",
    "    if x.ndim == 1:\n",
    "        x = x[..., np.newaxis]\n",
    "    return x\n",
    "\n",
    "#sr_mean = get_trace(fit, 'sr_mean')\n",
    "sr_pupil = get_trace(fit, 'sr_pupil')\n",
    "sr_cell = get_trace(fit, 'sr_cell')\n",
    "sr_cell_pupil = get_trace(fit, 'sr_cell_pupil')\n",
    "#sr_cell_sd = get_trace(fit, 'sr_cell_sd')\n",
    "sr_cell_pupil_sd = get_trace(fit, 'sr_cell_pupil_sd')\n",
    "\n",
    "slope_mean = get_trace(fit, 'slope_mean')\n",
    "slope_pupil = get_trace(fit, 'slope_pupil')\n",
    "slope_cell = get_trace(fit, 'slope_cell')\n",
    "slope_cell_pupil = get_trace(fit, 'slope_cell_pupil')\n",
    "slope_cell_sd = get_trace(fit, 'slope_cell_sd')\n",
    "slope_cell_pupil_sd = get_trace(fit, 'slope_cell_pupil_sd')\n",
    "\n",
    "threshold_mean = get_trace(fit, 'threshold_mean')\n",
    "threshold_pupil = get_trace(fit, 'threshold_pupil')\n",
    "threshold_cell = get_trace(fit, 'threshold_cell')\n",
    "threshold_cell_pupil = get_trace(fit, 'threshold_cell_pupil')\n",
    "threshold_cell_sd = get_trace(fit, 'threshold_cell_sd')\n",
    "threshold_cell_pupil_sd = get_trace(fit, 'threshold_cell_pupil_sd')\n",
    "\n",
    "sr = sr_cell\n",
    "sr_pupil = sr + (sr_pupil + sr_cell_pupil * sr_cell_pupil_sd)\n",
    "\n",
    "slope = slope_mean + (slope_cell * slope_cell_sd) \n",
    "slope_pupil = slope + (slope_pupil + slope_cell_pupil * slope_cell_pupil_sd)\n",
    "\n",
    "threshold = threshold_mean + (threshold_cell * threshold_cell_sd) \n",
    "threshold_pupil = threshold + (threshold_pupil + threshold_cell_pupil * threshold_cell_pupil_sd)\n",
    "\n",
    "level_start, level_stop = -20, 80\n",
    "spike_start, spike_stop = 0, 110\n",
    "\n",
    "x = np.arange(level_start, level_stop)[:, np.newaxis, np.newaxis]\n",
    "\n",
    "y = (x - threshold) * slope\n",
    "y = np.clip(y, sr, np.inf)\n",
    "\n",
    "y_pupil = (x - threshold_pupil) * slope_pupil\n",
    "y_pupil = np.clip(y_pupil, sr_pupil, np.inf)"
   ]
  },
  {
   "cell_type": "code",
   "execution_count": null,
   "metadata": {},
   "outputs": [],
   "source": [
    "def get_density(y, bins):\n",
    "    fn = lambda x: np.histogram(x, bins, density=True)[0]\n",
    "    return np.apply_along_axis(fn, 1, y)"
   ]
  },
  {
   "cell_type": "code",
   "execution_count": null,
   "metadata": {},
   "outputs": [],
   "source": [
    "sr"
   ]
  },
  {
   "cell_type": "code",
   "execution_count": null,
   "metadata": {},
   "outputs": [],
   "source": [
    "import itertools\n",
    "\n",
    "cell_indices = [0, 1, 2, 3, 4]\n",
    "f, ax = pl.subplots(3, 3, figsize=(10, 10))\n",
    "ax_iter = itertools.chain(*ax)\n",
    "bins = np.arange(spike_start, spike_stop, 0.1)\n",
    "pupil = 'small'\n",
    "\n",
    "for ax, cell_index in zip(ax_iter, cell_indices):\n",
    "    cell_name = cellid.categories[cell_index]\n",
    "    if pupil == 'small':\n",
    "        density = get_density(y[..., cell_index], bins)\n",
    "        raw = df.loc[cell_name].loc[1]\n",
    "        s_raw = spont.loc[cell_name].loc[1]\n",
    "        s_fit = sr[:, cell_index].mean()\n",
    "    else:\n",
    "        density = get_density(y_pupil[..., cell_index], bins)\n",
    "        raw = df.loc[cell_name].loc[2]\n",
    "        s_raw = spont.loc[cell_name].loc[2]\n",
    "        s_fit = sr_pupil[:, cell_index].mean()\n",
    "        \n",
    "    ax.plot(raw, 'o', color='white')\n",
    "    ax.set_title(cell_name)\n",
    "    ax.imshow(density.T, origin='lower', aspect='auto', \n",
    "              extent=(level_start, level_stop, spike_start, spike_stop))\n",
    "    ax.axvline(threshold[:, cell_index].mean(), color='black')\n",
    "    ax.axhline(s_raw, color='white')\n",
    "    ax.axhline(s_fit, color='black')\n",
    "    #ax.axhline(spont.loc[cell_name], color='white')\n"
   ]
  },
  {
   "cell_type": "code",
   "execution_count": null,
   "metadata": {},
   "outputs": [],
   "source": [
    "c = 'BOL006b-21-1'\n",
    "#c = 'TAR010c-24-2'\n",
    "#c = 'gus021d-b1'\n",
    "#i = cellid.categories.tolist().index(c)\n",
    "i = 56\n",
    "\n",
    "for i_cell in range(i, i+1):\n",
    "    pl.figure()\n",
    "\n",
    "    for i_pupil in (0, 1):\n",
    "        sr_i = sr[:, i_cell] + sr_pupil[:, i_cell] * i_pupil\n",
    "        threshold_i = threshold[:, i_cell] + threshold_pupil[:, i_cell] * i_pupil\n",
    "        slope_i = slope[:, i_cell] + slope_pupil[:, i_cell] * i_pupil\n",
    "        intercept_i = sr_i - threshold_i * slope_i\n",
    "        \n",
    "        print(f'{sr_i.mean():.2f} {intercept_i.mean():.2f} {slope_i.mean():.2f}')\n",
    "        print(f'{sr_i.min():.2f} {intercept_i.min():.2f} {slope_i.min():.2f}')\n",
    "\n",
    "        x = np.arange(-20, 100)[..., np.newaxis]\n",
    "        y = np.clip(slope_i * x + intercept_i, sr_i, np.inf)\n",
    "\n",
    "        m = (d['cell_code'] == i_cell) & (d['pupil'] == (i_pupil + 1))\n",
    "        subset = d.loc[m]\n",
    "        p, = pl.plot(subset['level'], subset['spikes'], 'o')\n",
    "\n",
    "        pl.plot(x, y[:, ::100], '-', alpha=0.005, color=p.get_color());"
   ]
  },
  {
   "cell_type": "code",
   "execution_count": null,
   "metadata": {},
   "outputs": [],
   "source": [
    "#az.plot_forest(fit, kind='ridgeplot', var_names=['sp_mean'], combined=True, figsize=(4, 4))\n",
    "az.plot_trace(fit, var_names=('sr_mean', 'sr_pupil', 'threshold_mean', 'threshold_pupil', 'slope_mean', 'slope_pupil'))"
   ]
  },
  {
   "cell_type": "code",
   "execution_count": null,
   "metadata": {},
   "outputs": [],
   "source": [
    "x = fit.summary(['tp_mean', 'tp_sd', 'srp_mean', 'srp_sd', 'sp_mean', 'sp_sd'])\n",
    "pd.DataFrame(x['summary'], index=x['summary_rownames'], columns=x['summary_colnames'])"
   ]
  },
  {
   "cell_type": "code",
   "execution_count": null,
   "metadata": {},
   "outputs": [],
   "source": [
    "threshold_pupil = get_trace(fit, 'threshold_pupil')\n",
    "lb, median, ub = np.percentile(threshold_pupil, [2.5, 50.0, 97.5], 0)\n",
    "i = np.arange(len(median))\n",
    "ax = pl.gca()\n",
    "ax.errorbar(i, median, yerr=np.vstack((abs(lb-median), ub-median)))\n",
    "ax.axhline(0, color='k')\n",
    "ax.set_ylabel('Threshold (dB SPL)')\n",
    "ax.xaxis.set_ticks([])\n",
    "ax.grid()\n",
    "\n",
    "i, j = median.argmin(), median.argmax()\n",
    "print(i, j)\n",
    "lb[i], ub[i]"
   ]
  },
  {
   "cell_type": "code",
   "execution_count": null,
   "metadata": {},
   "outputs": [],
   "source": [
    "sr_pupil = get_trace(fit, 'sr_pupil')\n",
    "lb, median, ub = np.percentile(sr_pupil, [2.5, 50.0, 97.5], 0)\n",
    "i = np.arange(len(median))\n",
    "ax = pl.gca()\n",
    "ax.errorbar(i, median, yerr=np.vstack((abs(lb-median), ub-median)))\n",
    "ax.axhline(0, color='k')\n",
    "ax.set_ylabel('SR (sp/sec)')\n",
    "ax.xaxis.set_ticks([])\n",
    "ax.grid()"
   ]
  },
  {
   "cell_type": "code",
   "execution_count": null,
   "metadata": {},
   "outputs": [],
   "source": [
    "slope_pupil = get_trace(fit, 'slope_pupil')\n",
    "lb, median, ub = np.percentile(slope_pupil, [2.5, 50.0, 97.5], 0)\n",
    "i = np.arange(len(median))\n",
    "ax = pl.gca()\n",
    "ax.errorbar(i, median, yerr=np.vstack((abs(lb-median), ub-median)))\n",
    "ax.axhline(0, color='k')\n",
    "ax.set_ylabel('Slope')\n",
    "ax.xaxis.set_ticks([])\n",
    "ax.grid()"
   ]
  },
  {
   "cell_type": "code",
   "execution_count": null,
   "metadata": {},
   "outputs": [],
   "source": [
    "sr_pupil = get_trace(fit, 'sr_pupil')\n",
    "lb, median, ub = np.percentile(sr_pupil, [2.5, 50.0, 97.5], 0)\n",
    "i = np.arange(len(median))\n",
    "ax = pl.gca()\n",
    "ax.errorbar(i, median, yerr=np.vstack((abs(lb-median), ub-median)))\n",
    "ax.axhline(0, color='k')\n",
    "ax.set_ylabel('SR (sp/sec)')\n",
    "ax.xaxis.set_ticks([])\n",
    "ax.grid()"
   ]
  },
  {
   "cell_type": "code",
   "execution_count": null,
   "metadata": {},
   "outputs": [],
   "source": [
    "fit"
   ]
  },
  {
   "cell_type": "code",
   "execution_count": null,
   "metadata": {},
   "outputs": [],
   "source": []
  }
 ],
 "metadata": {
  "kernelspec": {
   "display_name": "Python 3",
   "language": "python",
   "name": "python3"
  },
  "language_info": {
   "codemirror_mode": {
    "name": "ipython",
    "version": 3
   },
   "file_extension": ".py",
   "mimetype": "text/x-python",
   "name": "python",
   "nbconvert_exporter": "python",
   "pygments_lexer": "ipython3",
   "version": "3.6.5"
  }
 },
 "nbformat": 4,
 "nbformat_minor": 2
}
