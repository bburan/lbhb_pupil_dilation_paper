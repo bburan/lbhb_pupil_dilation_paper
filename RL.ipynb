{
 "cells": [
  {
   "cell_type": "code",
   "execution_count": null,
   "metadata": {},
   "outputs": [],
   "source": [
    "import pandas as pd\n",
    "import seaborn as sns\n",
    "from scipy import stats\n",
    "import pylab as pl\n",
    "import numpy as np\n",
    "from lbhb.psychometric import CachedStanModel\n",
    "import arviz as az\n",
    "import pickle\n",
    "%matplotlib inline\n",
    "\n",
    "from support import load_rates\n",
    "rates = load_rates()\n"
   ]
  },
  {
   "cell_type": "code",
   "execution_count": null,
   "metadata": {},
   "outputs": [],
   "source": [
    "def plot_raw_data(e, s, ax):\n",
    "    x = [0, 0] + e['level'].tolist()\n",
    "    y = s.eval('spont_count/spont_time').tolist() + e.eval('rlf_count/rlf_time').tolist()\n",
    "    size = np.array(s['spont_time'].tolist() + e['rlf_time'].tolist())\n",
    "    color = s['pupil'].tolist() + e['pupil'].tolist()\n",
    "    colors = {0: 'seagreen', 1: 'orchid'}\n",
    "    color = [colors[e] for e in color]\n",
    "    size = 100 * size/size.mean()\n",
    "    ax.scatter(x, y, size, color, alpha=0.5)"
   ]
  },
  {
   "cell_type": "code",
   "execution_count": null,
   "metadata": {},
   "outputs": [],
   "source": [
    "model = CachedStanModel('rl_nosr.stan')"
   ]
  },
  {
   "cell_type": "code",
   "execution_count": null,
   "metadata": {},
   "outputs": [],
   "source": [
    "refit = False\n",
    "sig_only = False\n",
    "pkl_name = 'sig_fit_nosr.pkl' if sig_only else 'fit_nosr.pkl'"
   ]
  },
  {
   "cell_type": "code",
   "execution_count": null,
   "metadata": {},
   "outputs": [],
   "source": [
    "if refit:\n",
    "    if sig_only:\n",
    "        e = er.loc[er['significant'] == True].reset_index()\n",
    "        s = sr.loc[sr['significant'] == True].reset_index()\n",
    "    else:\n",
    "        e = er.reset_index()\n",
    "        s = sr.reset_index()\n",
    "        \n",
    "    cells = e['cellid'].unique()\n",
    "    cell_map = {c: i+1 for i, c in enumerate(cells)}\n",
    "    cell_index = e['cellid'].apply(cell_map.get).values\n",
    "    \n",
    "    s['cell_index'] = s['cellid'].map(cell_map.get)\n",
    "    s = s.set_index(['pupil', 'cell_index'])[['spont_count', 'spont_time']] \\\n",
    "        .sort_index().eval('spont_count/spont_time').unstack('pupil').reset_index()\n",
    "    sr_cell = s[0].values\n",
    "    sr_cell_pupil = s[1].values\n",
    "    \n",
    "    data = {\n",
    "        'n': len(e),\n",
    "        'n_cells': len(cells),\n",
    "        'cell_index': cell_index.astype('i'),\n",
    "        'level': e['level'].values,\n",
    "        'pupil': e['pupil'].values.astype('i'),\n",
    "        'time': e['rlf_time'].values,\n",
    "        'count': e['rlf_count'].values.astype('i'),\n",
    "        'sr': sr_cell,\n",
    "        'sr_pupil': sr_cell_pupil,\n",
    "    }\n",
    "\n",
    "    fit = model.sampling(data, n_jobs=8, iter=20000, control={'adapt_delta': 0.9, 'max_treedepth': 20})\n",
    "\n",
    "    \n",
    "    with open(pkl_name, 'wb') as f:\n",
    "        pickle.dump(model, f)\n",
    "        pickle.dump(fit, f)\n",
    "        \n",
    "else:\n",
    "    with open(pkl_name, 'rb') as fh:\n",
    "        model = pickle.load(fh)\n",
    "        fit = pickle.load(fh)"
   ]
  },
  {
   "cell_type": "code",
   "execution_count": null,
   "metadata": {},
   "outputs": [],
   "source": [
    "az.plot_trace(fit, ['slope_mean', 'slope_sd', 'slope_delta_meana', 'slope_delta_sd', 'threshold_mean', 'threshold_sd', 'threshold_delta_mean', 'threshold_delta_sd']);"
   ]
  },
  {
   "cell_type": "code",
   "execution_count": null,
   "metadata": {},
   "outputs": [],
   "source": [
    "summary = az.summary(fit, credible_interval=0.9)"
   ]
  },
  {
   "cell_type": "code",
   "execution_count": null,
   "metadata": {},
   "outputs": [],
   "source": [
    "az.plot_kde(fit['slope_mean'], fit['threshold_mean'])"
   ]
  },
  {
   "cell_type": "code",
   "execution_count": null,
   "metadata": {},
   "outputs": [],
   "source": [
    "slope = get_metric(summary, 'slope_delta_cell')['mean']\n",
    "threshold = get_metric(summary, 'threshold_delta_cell')['mean']\n",
    "az.plot_kde(slope, threshold)\n",
    "pl.plot(slope, threshold, 'wo')\n",
    "stats.pearsonr(slope, threshold)"
   ]
  },
  {
   "cell_type": "code",
   "execution_count": null,
   "metadata": {},
   "outputs": [],
   "source": [
    "def get_color(row, lb_label, ub_label):\n",
    "    if row['gelman-rubin statistic'] > 1.1:\n",
    "        return 'red'\n",
    "    if (row[lb_label] > 0) or (row[ub_label] < 0):\n",
    "        return 'green'\n",
    "    return 'gray'\n",
    "\n",
    "\n",
    "def plot(ax, cell_metric, pop_metric, measure):\n",
    "    cell_metric = cell_metric.sort_values('mean')\n",
    "    ci_label = ['hpd 5.00%', 'hpd 95.00%']\n",
    "    \n",
    "    color = get_color(pop_metric, *ci_label)\n",
    "    ax.axvspan(*pop_metric[ci_label], facecolor=color, alpha=0.5)\n",
    "    ax.axvline(pop_metric['mean'], color=color)\n",
    "    n_sig = 0\n",
    "    for i, (_, row) in enumerate(cell_metric.iterrows()):\n",
    "        color = get_color(row, *ci_label)\n",
    "        if color == 'green':\n",
    "            n_sig += 1\n",
    "        ax.plot(row[ci_label], [i, i], '-', color=color, lw=0.5)\n",
    "        ax.plot(row[['mean']], [i], 'o', color=color)\n",
    "        \n",
    "        #color = 'k' if row['good_cell'] else 'r'\n",
    "        #ax.plot(row[['mean']], [-5], '+', color=color)\n",
    "        \n",
    "    title = f'Change in {measure} (lg. re sm. pupil)'\n",
    "    n_sig = f'{n_sig} sig. out of {len(cell_metric)}'\n",
    "    pop_stat = f'Mean change {pop_metric[\"mean\"]:.2f} (90% CI {pop_metric[ci_label[0]]:.2f} to {pop_metric[ci_label[1]]:.2f})'\n",
    "    ax.set_xlabel(f'{title}\\n{n_sig}\\n{pop_stat}')\n",
    "    sns.despine(ax=ax, top=True, left=True, right=True, bottom=False)\n",
    "    ax.yaxis.set_ticks_position('none')\n",
    "    ax.yaxis.set_ticks([])\n",
    "    ax.grid()\n",
    "    return ax\n",
    "\n",
    "\n",
    "def get_metric(summary, metric, index=None):\n",
    "    x = summary[metric].to_series()\n",
    "    if x.index.nlevels == 2:\n",
    "        x = x.unstack('metric')\n",
    "    if index is not None:\n",
    "        x.index = index\n",
    "    return x"
   ]
  },
  {
   "cell_type": "code",
   "execution_count": null,
   "metadata": {},
   "outputs": [],
   "source": [
    "import importlib\n",
    "importlib "
   ]
  },
  {
   "cell_type": "code",
   "execution_count": null,
   "metadata": {},
   "outputs": [],
   "source": [
    "from support import load_rates\n",
    "data = load_rates()"
   ]
  },
  {
   "cell_type": "code",
   "execution_count": null,
   "metadata": {},
   "outputs": [],
   "source": [
    "f, axes = pl.subplots(1, 2, figsize=(8, 3))\n",
    "\n",
    "cell_metric = get_metric(summary, 'slope_delta_cell')\n",
    "pop_metric = get_metric(summary, 'slope_delta_mean')\n",
    "plot(axes[0], cell_metric, pop_metric, 'slope')\n",
    "\n",
    "cell_metric = get_metric(summary, 'threshold_delta_cell')\n",
    "pop_metric = get_metric(summary, 'threshold_delta_mean')\n",
    "plot(axes[1], cell_metric, pop_metric, 'threshold')"
   ]
  },
  {
   "cell_type": "code",
   "execution_count": null,
   "metadata": {},
   "outputs": [],
   "source": [
    "def plot_fit(er, sr, fit, cell_map, cell, ax):\n",
    "    c = fit.to_dataframe(diagnostics=False).mean()\n",
    "    level = np.arange(-10, 80)\n",
    "    i = cell_map[cell]\n",
    "\n",
    "    e = er.loc[cell].reset_index()\n",
    "    s = sr.loc[cell].reset_index()\n",
    "    plot_raw_data(e, s, ax)\n",
    "    \n",
    "    s = s.set_index('pupil').eval('spont_count/spont_time')\n",
    "    sr_regular = s.loc[0]\n",
    "    sr_pupil = s.loc[1]\n",
    "\n",
    "    slope = c[f'slope_cell[{i}]']\n",
    "    threshold = c[f'threshold_cell[{i}]']\n",
    "    slope_pupil_delta = c[f'slope_delta_cell[{i}]']\n",
    "    threshold_pupil_delta = c[f'threshold_delta_cell[{i}]']\n",
    "\n",
    "    pred = slope * (level - threshold) + sr_regular\n",
    "    pred[level <= threshold] = sr_regular\n",
    "    pred = np.clip(pred, 0, np.inf)\n",
    "    ax.plot(level, pred, color='seagreen')\n",
    "\n",
    "    slope_pupil = slope + slope_pupil_delta\n",
    "    threshold_pupil = threshold + threshold_pupil_delta\n",
    "\n",
    "    pred = slope_pupil * (level - threshold_pupil) + sr_pupil\n",
    "    pred[level <= threshold_pupil] = sr_pupil\n",
    "    pred = np.clip(pred, 0, np.inf)\n",
    "    ax.plot(level, pred, color='orchid')\n",
    "    \n",
    "    \n",
    "f, axes = pl.subplots(5, 5, figsize=(10, 10))\n",
    "for cell, ax in zip(cells, axes.ravel()):\n",
    "    plot_fit(er, sr, fit, cell_map, cell, ax)\n",
    "    i = cell_map[cell] - 1\n",
    "    lb, m, ub = np.percentile(fit['threshold_delta_cell'][:, i], [2.5, 50.0, 97.5])\n",
    "    \n",
    "    ax.set_title(f'{cell}\\n({lb:.0f} | {m:.0f} | {ub:.0f})')\n",
    "    \n",
    "f.tight_layout()"
   ]
  },
  {
   "cell_type": "code",
   "execution_count": null,
   "metadata": {},
   "outputs": [],
   "source": [
    "import matplotlib as mp\n",
    "from scipy import stats\n",
    "\n",
    "def plot(ax, lb, m, ub, measure, ensemble_lb, ensemble_m, ensemble_ub):\n",
    "    stat = stats.wilcoxon(m)\n",
    "    mask = (ub < 0) | (lb > 0)\n",
    "    i = np.argsort(m)\n",
    "    lb = lb[i]\n",
    "    m = m[i]\n",
    "    ub = ub[i]\n",
    "\n",
    "    #ax.axvline(0)\n",
    "    t = ax.get_xaxis_transform()\n",
    "    fc = 'lightgreen' if (ensemble_lb > 0) or (ensemble_ub < 0) else 'gray'\n",
    "    c = 'seagreen' if (ensemble_lb > 0) or (ensemble_ub < 0) else 'k'\n",
    "    ax.axvline(ensemble_m, color=c)\n",
    "    r = mp.patches.Rectangle((ensemble_lb, 0), ensemble_ub-ensemble_lb, 1,\n",
    "                             transform=t, ec='none', fc=fc)\n",
    "    ax.add_patch(r)\n",
    "    n_sig =0 \n",
    "    for i, (a, d, b) in enumerate(zip(lb, m, ub)):\n",
    "        c = 'g' if (b < 0) or (a > 0) else 'k'\n",
    "        n_sig += 1 if (b < 0) or (a > 0) else 0\n",
    "        ax.plot([a, b], [i, i], '-', color=c, lw=0.5)\n",
    "        ax.plot([d], [i], 'o', color=c)\n",
    "        \n",
    "    ax.set_xlabel(f'Change in {measure} (lg. re sm. pupil)\\n{n_sig} sig. out of {len(lb)}\\nMedian change {ensemble_m:.2f}\\nWilcoxon p={stat.pvalue:0.4f}')\n",
    "    sns.despine(ax=ax, top=True, left=True, right=True, bottom=False)\n",
    "    ax.yaxis.set_ticks_position('none')\n",
    "    ax.yaxis.set_ticks([])\n",
    "    ax.grid()\n",
    "    return ax\n",
    "\n",
    "f, axes = pl.subplots(1, 2, figsize=(10, 5))\n",
    "\n",
    "thresholds = pd.Series(fit['threshold_cell'].mean(axis=0), index=cell_map.keys())\n",
    "mask = (thresholds < -20) | (thresholds > 65)\n",
    "mask = ~mask\n",
    "# hack\n",
    "mask[:] = True\n",
    "\n",
    "pct = [5, 50, 95]\n",
    "x = fit['slope_delta_cell'][:, mask]\n",
    "e = fit['slope_delta_mean']\n",
    "lb, m, ub = np.percentile(x, pct, axis=0)\n",
    "elb, em, eub = np.percentile(e, pct, axis=0)\n",
    "plot(axes[0], lb, m, ub, 'slope', elb, em, eub)\n",
    "\n",
    "x = fit['threshold_delta_cell'][:, mask]\n",
    "e = fit['threshold_delta_mean']\n",
    "lb, m, ub = np.percentile(x, pct, axis=0)\n",
    "elb, em, eub = np.percentile(e, pct, axis=0)\n",
    "plot(axes[1], lb, m, ub, 'threshold', elb, em, eub)"
   ]
  },
  {
   "cell_type": "code",
   "execution_count": null,
   "metadata": {},
   "outputs": [],
   "source": [
    "az.plot_trace(fit, ['slope_pupil_delta_mean', 'threshold_pupil_delta_mean']);"
   ]
  },
  {
   "cell_type": "code",
   "execution_count": null,
   "metadata": {},
   "outputs": [],
   "source": []
  }
 ],
 "metadata": {
  "kernelspec": {
   "display_name": "Python 3",
   "language": "python",
   "name": "python3"
  },
  "language_info": {
   "codemirror_mode": {
    "name": "ipython",
    "version": 3
   },
   "file_extension": ".py",
   "mimetype": "text/x-python",
   "name": "python",
   "nbconvert_exporter": "python",
   "pygments_lexer": "ipython3",
   "version": "3.6.5"
  }
 },
 "nbformat": 4,
 "nbformat_minor": 2
}
